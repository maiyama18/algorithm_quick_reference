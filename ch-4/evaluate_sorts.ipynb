{
 "cells": [
  {
   "cell_type": "code",
   "execution_count": 2,
   "metadata": {},
   "outputs": [],
   "source": [
    "import time\n",
    "import numpy as np\n",
    "import matplotlib.pyplot as plt\n",
    "%matplotlib inline"
   ]
  },
  {
   "cell_type": "code",
   "execution_count": 3,
   "metadata": {},
   "outputs": [],
   "source": [
    "from insertion_sort import insertion_sort\n",
    "from selection_sort import selection_sort\n",
    "from heap_sort import heap_sort\n",
    "from quick_sort import quick_sort\n",
    "from merge_sort import merge_sort\n",
    "from bucket_sort import bucket_sort"
   ]
  },
  {
   "cell_type": "code",
   "execution_count": 4,
   "metadata": {},
   "outputs": [],
   "source": [
    "def measure_times(a_sort, power_range=(2, 12), n_loop=200, max_int=10000, duplication=False, is_sorted=False, num_swaps=0):\n",
    "    times = []\n",
    "    for p in power_range:\n",
    "        n = 2**p\n",
    "        \n",
    "        print(\"n=\" + str(n) + \" started...\", end=\"\")\n",
    "        \n",
    "        if duplication:\n",
    "            # each array has 100 same values on average\n",
    "            arrays = [list(np.random.randint(0, (n//100)+1, n)) for _ in range(n_loop)] \n",
    "        else:\n",
    "            arrays = [list(np.random.randint(0, max_int+1, n)) for _ in range(n_loop)]\n",
    "        \n",
    "        if is_sorted:\n",
    "            for array in arrays:\n",
    "                array.sort()\n",
    "            if num_swaps != 0:\n",
    "                for array in arrays:\n",
    "                    for _ in range(num_swaps):\n",
    "                        i1, i2 = np.random.choice(n, 2)\n",
    "                        array[i1], array[i2] = array[i2], array[i1]\n",
    "                        \n",
    "        start_time = time.time()\n",
    "        for array in arrays:\n",
    "            a_sort(array)\n",
    "        averaged_time = (time.time() - start_time) / n_loop\n",
    "        times.append(averaged_time)\n",
    "        print(\"finished! time: \" + str(averaged_time * 1000) + \" ms.\")\n",
    "    \n",
    "    return times"
   ]
  },
  {
   "cell_type": "code",
   "execution_count": 5,
   "metadata": {},
   "outputs": [],
   "source": [
    "# preparation for fitting\n",
    "from scipy.optimize import curve_fit\n",
    "def n1_func(n, a):\n",
    "    return a * n\n",
    "def n2_func(n, a):\n",
    "    return a * n**2\n",
    "def nlogn_func(n, a):\n",
    "    return a * n * np.log2(n)"
   ]
  },
  {
   "cell_type": "code",
   "execution_count": 6,
   "metadata": {},
   "outputs": [],
   "source": [
    "power_range = range(8, 15)\n",
    "ns = np.array([2**p for p in power_range])\n",
    "n_loop = 50\n",
    "max_int = 10000\n",
    "\n",
    "sorts = [\n",
    "    {\n",
    "        'label': 'selection',\n",
    "        'sort': selection_sort,\n",
    "        'color': '#DA0017',\n",
    "        'marker': 'o',\n",
    "        'fit_func': n2_func\n",
    "    },\n",
    "    {\n",
    "        'label': 'insertion',\n",
    "        'sort': insertion_sort,\n",
    "        'color': '#2C6AAB',\n",
    "        'marker': '^',\n",
    "        'fit_func': n2_func\n",
    "    },\n",
    "    {\n",
    "        'label': 'heap',\n",
    "        'sort': heap_sort,\n",
    "        'color': '#40A43A',\n",
    "        'marker': 'v',\n",
    "        'fit_func': nlogn_func\n",
    "    },\n",
    "    {\n",
    "        'label': 'quick',\n",
    "        'sort': quick_sort,\n",
    "        'color': '#863693',\n",
    "        'marker': 's',\n",
    "        'fit_func': nlogn_func\n",
    "    },\n",
    "    {\n",
    "        'label': 'merge',\n",
    "        'sort': merge_sort,\n",
    "        'color': '#FE6B06',\n",
    "        'marker': '*',\n",
    "        'fit_func': nlogn_func\n",
    "    },\n",
    "    {\n",
    "        'label': 'bucket',\n",
    "        'sort': bucket_sort,\n",
    "        'color': '#754239',\n",
    "        'marker': '+',\n",
    "        'fit_func': n1_func\n",
    "    }\n",
    "]"
   ]
  },
  {
   "cell_type": "code",
   "execution_count": 7,
   "metadata": {},
   "outputs": [
    {
     "name": "stdout",
     "output_type": "stream",
     "text": [
      "selection\n",
      "n=256 started...finished! time: 3.099355697631836 ms.\n",
      "n=512 started...finished! time: 12.46133804321289 ms.\n",
      "n=1024 started...finished! time: 55.57253837585449 ms.\n",
      "n=2048 started...finished! time: 218.5306453704834 ms.\n",
      "n=4096 started...finished! time: 777.3082399368286 ms.\n",
      "n=8192 started...finished! time: 3236.3666200637817 ms.\n",
      "n=16384 started...finished! time: 13385.37395954132 ms.\n",
      "insertion\n",
      "n=256 started...finished! time: 4.721741676330566 ms.\n",
      "n=512 started...finished! time: 20.391626358032227 ms.\n",
      "n=1024 started...finished! time: 85.85785865783691 ms.\n",
      "n=2048 started...finished! time: 373.4603214263916 ms.\n",
      "n=4096 started...finished! time: 1509.7001838684082 ms.\n",
      "n=8192 started...finished! time: 6500.75662612915 ms.\n",
      "n=16384 started...finished! time: 25925.932683944702 ms.\n",
      "heap\n",
      "n=256 started...finished! time: 1.4320611953735352 ms.\n",
      "n=512 started...finished! time: 3.3144760131835938 ms.\n",
      "n=1024 started...finished! time: 9.897642135620117 ms.\n",
      "n=2048 started...finished! time: 16.54411792755127 ms.\n",
      "n=4096 started...finished! time: 40.05767822265625 ms.\n",
      "n=8192 started...finished! time: 90.08963584899902 ms.\n",
      "n=16384 started...finished! time: 191.72492504119873 ms.\n",
      "quick\n",
      "n=256 started...finished! time: 1.8120384216308594 ms.\n",
      "n=512 started...finished! time: 3.397798538208008 ms.\n",
      "n=1024 started...finished! time: 7.259836196899414 ms.\n",
      "n=2048 started...finished! time: 14.538545608520508 ms.\n",
      "n=4096 started...finished! time: 30.6375789642334 ms.\n",
      "n=8192 started...finished! time: 76.12237930297852 ms.\n",
      "n=16384 started...finished! time: 180.22948265075684 ms.\n",
      "merge\n",
      "n=256 started...finished! time: 1.0934972763061523 ms.\n",
      "n=512 started...finished! time: 2.231884002685547 ms.\n",
      "n=1024 started...finished! time: 4.873547554016113 ms.\n",
      "n=2048 started...finished! time: 10.596637725830078 ms.\n",
      "n=4096 started...finished! time: 23.952441215515137 ms.\n",
      "n=8192 started...finished! time: 49.89234447479248 ms.\n",
      "n=16384 started...finished! time: 108.93781661987305 ms.\n",
      "bucket\n",
      "n=256 started...finished! time: 0.3856658935546875 ms.\n",
      "n=512 started...finished! time: 0.7895612716674805 ms.\n",
      "n=1024 started...finished! time: 1.6788625717163086 ms.\n",
      "n=2048 started...finished! time: 5.253024101257324 ms.\n",
      "n=4096 started...finished! time: 7.0186567306518555 ms.\n",
      "n=8192 started...finished! time: 17.70780086517334 ms.\n",
      "n=16384 started...finished! time: 21.993298530578613 ms.\n"
     ]
    }
   ],
   "source": [
    "times_all = {}\n",
    "for sort in sorts:\n",
    "    print(sort['label'])\n",
    "    times_all[sort['label']] = measure_times(sort['sort'], power_range=power_range, n_loop=n_loop)"
   ]
  },
  {
   "cell_type": "code",
   "execution_count": 22,
   "metadata": {},
   "outputs": [
    {
     "data": {
      "text/plain": [
       "<matplotlib.legend.Legend at 0x152043c9b0>"
      ]
     },
     "execution_count": 22,
     "metadata": {},
     "output_type": "execute_result"
    },
    {
     "data": {
      "image/png": "[encoded data removed]",
      "text/plain": [
       "<matplotlib.figure.Figure at 0x152043c6d8>"
      ]
     },
     "metadata": {},
     "output_type": "display_data"
    }
   ],
   "source": [
    "# linear plot\n",
    "for sort in sorts:\n",
    "    plt.scatter(ns, times_all[sort['label']], label=sort['label'], color=sort['color'], marker=sort['marker'])\n",
    "plt.legend()"
   ]
  },
  {
   "cell_type": "code",
   "execution_count": 23,
   "metadata": {},
   "outputs": [
    {
     "data": {
      "text/plain": [
       "<matplotlib.legend.Legend at 0x15165b45c0>"
      ]
     },
     "execution_count": 23,
     "metadata": {},
     "output_type": "execute_result"
    },
    {
     "data": {
      "image/png": "[encoded data removed]",
      "text/plain": [
       "<matplotlib.figure.Figure at 0x15165b4908>"
      ]
     },
     "metadata": {},
     "output_type": "display_data"
    }
   ],
   "source": [
    "# log plot\n",
    "for sort in sorts:\n",
    "    plt.scatter(ns, times_all[sort['label']], label=sort['label'], color=sort['color'], marker=sort['marker'])\n",
    "plt.xscale('log')\n",
    "plt.yscale('log')\n",
    "plt.ylim(2e-4, 80)\n",
    "plt.grid(which='major', color='grey', linestyle='-')\n",
    "plt.legend()"
   ]
  },
  {
   "cell_type": "code",
   "execution_count": 11,
   "metadata": {},
   "outputs": [],
   "source": [
    "ns_fit = []\n",
    "for p in power_range:\n",
    "    for pp in range(10):\n",
    "        ns_fit.append(2**(p+0.1*pp))\n",
    "        \n",
    "fit_params = {}\n",
    "for sort in sorts:\n",
    "    fit_params[sort['label']], _ = curve_fit(sort['fit_func'], ns, times_all[sort['label']])"
   ]
  },
  {
   "cell_type": "code",
   "execution_count": 24,
   "metadata": {},
   "outputs": [
    {
     "data": {
      "text/plain": [
       "<matplotlib.legend.Legend at 0x1516737518>"
      ]
     },
     "execution_count": 24,
     "metadata": {},
     "output_type": "execute_result"
    },
    {
     "data": {
      "image/png": "[encoded data removed]",
      "text/plain": [
       "<matplotlib.figure.Figure at 0x15168e4a58>"
      ]
     },
     "metadata": {},
     "output_type": "display_data"
    }
   ],
   "source": [
    "# log plot with fitting curve\n",
    "for sort in sorts:\n",
    "    plt.scatter(ns, times_all[sort['label']], label=sort['label'], color=sort['color'], marker=sort['marker'])\n",
    "    plt.plot(ns_fit, sort['fit_func'](np.array(ns_fit), fit_params[sort['label']][0]), color=sort['color'])\n",
    "plt.xscale('log')\n",
    "plt.yscale('log')\n",
    "plt.ylim(2e-4, 80)\n",
    "plt.grid(which='major', color='grey', linestyle='-')\n",
    "plt.legend()"
   ]
  },
  {
   "cell_type": "code",
   "execution_count": 14,
   "metadata": {},
   "outputs": [
    {
     "name": "stdout",
     "output_type": "stream",
     "text": [
      "selection\n",
      "n=256 started...finished! time: 3.0306196212768555 ms.\n",
      "n=512 started...finished! time: 11.704115867614746 ms.\n",
      "n=1024 started...finished! time: 46.01372241973877 ms.\n",
      "n=2048 started...finished! time: 189.3588352203369 ms.\n",
      "n=4096 started...finished! time: 795.0888586044312 ms.\n",
      "n=8192 started...finished! time: 3159.6582412719727 ms.\n",
      "n=16384 started...finished! time: 13639.592018127441 ms.\n",
      "insertion\n",
      "n=256 started...finished! time: 3.232440948486328 ms.\n",
      "n=512 started...finished! time: 17.201862335205078 ms.\n",
      "n=1024 started...finished! time: 82.59200096130371 ms.\n",
      "n=2048 started...finished! time: 362.02592372894287 ms.\n",
      "n=4096 started...finished! time: 1553.2351398468018 ms.\n",
      "n=8192 started...finished! time: 6408.475379943848 ms.\n",
      "n=16384 started...finished! time: 24683.574323654175 ms.\n",
      "heap\n",
      "n=256 started...finished! time: 1.0044431686401367 ms.\n",
      "n=512 started...finished! time: 2.834038734436035 ms.\n",
      "n=1024 started...finished! time: 7.209157943725586 ms.\n",
      "n=2048 started...finished! time: 16.49494171142578 ms.\n",
      "n=4096 started...finished! time: 36.90474033355713 ms.\n",
      "n=8192 started...finished! time: 82.79710292816162 ms.\n",
      "n=16384 started...finished! time: 183.86871814727783 ms.\n",
      "quick\n",
      "n=256 started...finished! time: 5.021018981933594 ms.\n",
      "n=512 started...finished! time: 10.04171371459961 ms.\n",
      "n=1024 started...finished! time: 22.113499641418457 ms.\n",
      "n=2048 started...finished! time: 45.931382179260254 ms.\n",
      "n=4096 started...finished! time: 95.53006172180176 ms.\n",
      "n=8192 started...finished! time: 195.32066345214844 ms.\n",
      "n=16384 started...finished! time: 395.9186601638794 ms.\n",
      "merge\n",
      "n=256 started...finished! time: 1.001443862915039 ms.\n",
      "n=512 started...finished! time: 2.1093368530273438 ms.\n",
      "n=1024 started...finished! time: 4.665002822875977 ms.\n",
      "n=2048 started...finished! time: 10.233535766601562 ms.\n",
      "n=4096 started...finished! time: 22.282838821411133 ms.\n",
      "n=8192 started...finished! time: 48.09849739074707 ms.\n",
      "n=16384 started...finished! time: 102.99868106842041 ms.\n",
      "bucket\n",
      "n=256 started...finished! time: 0.2466630935668945 ms.\n",
      "n=512 started...finished! time: 0.46411991119384766 ms.\n",
      "n=1024 started...finished! time: 0.9496402740478516 ms.\n",
      "n=2048 started...finished! time: 1.8381834030151367 ms.\n",
      "n=4096 started...finished! time: 3.740682601928711 ms.\n",
      "n=8192 started...finished! time: 7.401418685913086 ms.\n",
      "n=16384 started...finished! time: 14.937076568603516 ms.\n"
     ]
    }
   ],
   "source": [
    "times_all_duplicate = {}\n",
    "for sort in sorts:\n",
    "    print(sort['label'])\n",
    "    times_all_duplicate[sort['label']] = measure_times(sort['sort'], power_range=power_range, n_loop=n_loop, duplication=True)"
   ]
  },
  {
   "cell_type": "code",
   "execution_count": 25,
   "metadata": {},
   "outputs": [
    {
     "data": {
      "text/plain": [
       "<matplotlib.legend.Legend at 0x151e8fd198>"
      ]
     },
     "execution_count": 25,
     "metadata": {},
     "output_type": "execute_result"
    },
    {
     "data": {
      "image/png": "[encoded data removed]",
      "text/plain": [
       "<matplotlib.figure.Figure at 0x151e8fd7b8>"
      ]
     },
     "metadata": {},
     "output_type": "display_data"
    }
   ],
   "source": [
    "# log plot\n",
    "for sort in sorts:\n",
    "    plt.scatter(ns, times_all_duplicate[sort['label']], label=sort['label'], color=sort['color'], marker=sort['marker'])\n",
    "plt.xscale('log')\n",
    "plt.yscale('log')\n",
    "plt.ylim(1e-4, 80)\n",
    "plt.grid(which='major', color='grey', linestyle='-')\n",
    "plt.grid(which='major', color='lightgrey', linestyle='-')\n",
    "plt.legend()"
   ]
  },
  {
   "cell_type": "code",
   "execution_count": 17,
   "metadata": {},
   "outputs": [
    {
     "name": "stdout",
     "output_type": "stream",
     "text": [
      "selection\n",
      "n=256 started...finished! time: 4.4007158279418945 ms.\n",
      "n=512 started...finished! time: 18.206181526184082 ms.\n",
      "n=1024 started...finished! time: 78.86384010314941 ms.\n",
      "n=2048 started...finished! time: 290.92148303985596 ms.\n",
      "n=4096 started...finished! time: 1151.8253421783447 ms.\n",
      "n=8192 started...finished! time: 4424.711141586304 ms.\n",
      "n=16384 started...finished! time: 17145.60209751129 ms.\n",
      "insertion\n",
      "n=256 started...finished! time: 0.1416635513305664 ms.\n",
      "n=512 started...finished! time: 0.2941608428955078 ms.\n",
      "n=1024 started...finished! time: 0.5942583084106445 ms.\n",
      "n=2048 started...finished! time: 1.2967777252197266 ms.\n",
      "n=4096 started...finished! time: 2.702059745788574 ms.\n",
      "n=8192 started...finished! time: 5.095858573913574 ms.\n",
      "n=16384 started...finished! time: 11.04830265045166 ms.\n",
      "heap\n",
      "n=256 started...finished! time: 1.8294811248779297 ms.\n",
      "n=512 started...finished! time: 4.251499176025391 ms.\n",
      "n=1024 started...finished! time: 8.220376968383789 ms.\n",
      "n=2048 started...finished! time: 17.866182327270508 ms.\n",
      "n=4096 started...finished! time: 45.58730125427246 ms.\n",
      "n=8192 started...finished! time: 91.83777809143066 ms.\n",
      "n=16384 started...finished! time: 205.31836032867432 ms.\n",
      "quick\n",
      "n=256 started...finished! time: 1.5033388137817383 ms.\n",
      "n=512 started...finished! time: 3.195343017578125 ms.\n",
      "n=1024 started...finished! time: 6.623263359069824 ms.\n",
      "n=2048 started...finished! time: 14.745540618896484 ms.\n",
      "n=4096 started...finished! time: 32.65549659729004 ms.\n",
      "n=8192 started...finished! time: 72.38927841186523 ms.\n",
      "n=16384 started...finished! time: 147.75171756744385 ms.\n",
      "merge\n",
      "n=256 started...finished! time: 0.9817981719970703 ms.\n",
      "n=512 started...finished! time: 2.118558883666992 ms.\n",
      "n=1024 started...finished! time: 4.734382629394531 ms.\n",
      "n=2048 started...finished! time: 10.18618106842041 ms.\n",
      "n=4096 started...finished! time: 22.376885414123535 ms.\n",
      "n=8192 started...finished! time: 47.77415752410889 ms.\n",
      "n=16384 started...finished! time: 103.94708156585693 ms.\n",
      "bucket\n",
      "n=256 started...finished! time: 0.3622007369995117 ms.\n",
      "n=512 started...finished! time: 0.7276201248168945 ms.\n",
      "n=1024 started...finished! time: 1.585402488708496 ms.\n",
      "n=2048 started...finished! time: 6.184601783752441 ms.\n",
      "n=4096 started...finished! time: 7.244277000427246 ms.\n",
      "n=8192 started...finished! time: 16.99812412261963 ms.\n",
      "n=16384 started...finished! time: 24.96530055999756 ms.\n"
     ]
    }
   ],
   "source": [
    "times_all_sorted = {}\n",
    "for sort in sorts:\n",
    "    print(sort['label'])\n",
    "    times_all_sorted[sort['label']] = measure_times(sort['sort'], power_range=power_range, n_loop=n_loop, is_sorted=True)"
   ]
  },
  {
   "cell_type": "code",
   "execution_count": 26,
   "metadata": {},
   "outputs": [
    {
     "data": {
      "text/plain": [
       "<matplotlib.legend.Legend at 0x151eaaa940>"
      ]
     },
     "execution_count": 26,
     "metadata": {},
     "output_type": "execute_result"
    },
    {
     "data": {
      "image/png": "[encoded data removed]",
      "text/plain": [
       "<matplotlib.figure.Figure at 0x151ee73e10>"
      ]
     },
     "metadata": {},
     "output_type": "display_data"
    }
   ],
   "source": [
    "# log plot\n",
    "for sort in sorts:\n",
    "    plt.scatter(ns, times_all_sorted[sort['label']], label=sort['label'], color=sort['color'], marker=sort['marker'])\n",
    "plt.xscale('log')\n",
    "plt.yscale('log')\n",
    "plt.ylim(1e-4, 80)\n",
    "plt.grid(which='major', color='grey', linestyle='-')\n",
    "plt.grid(which='major', color='lightgrey', linestyle='-')\n",
    "plt.legend()"
   ]
  },
  {
   "cell_type": "code",
   "execution_count": 28,
   "metadata": {},
   "outputs": [
    {
     "name": "stdout",
     "output_type": "stream",
     "text": [
      "selection\n",
      "n=256 started...finished! time: 3.698244094848633 ms.\n",
      "n=512 started...finished! time: 14.52120304107666 ms.\n",
      "n=1024 started...finished! time: 58.01503658294678 ms.\n",
      "n=2048 started...finished! time: 253.05346012115476 ms.\n",
      "n=4096 started...finished! time: 950.911545753479 ms.\n",
      "n=8192 started...finished! time: 3834.7335243225098 ms.\n",
      "n=16384 started...finished! time: 15242.440900802612 ms.\n",
      "insertion\n",
      "n=256 started...finished! time: 0.30600547790527344 ms.\n",
      "n=512 started...finished! time: 0.6714582443237305 ms.\n",
      "n=1024 started...finished! time: 1.4145803451538086 ms.\n",
      "n=2048 started...finished! time: 3.0850601196289062 ms.\n",
      "n=4096 started...finished! time: 6.671934127807617 ms.\n",
      "n=8192 started...finished! time: 12.690396308898926 ms.\n",
      "n=16384 started...finished! time: 25.628881454467773 ms.\n",
      "heap\n",
      "n=256 started...finished! time: 1.4967632293701172 ms.\n",
      "n=512 started...finished! time: 3.550543785095215 ms.\n",
      "n=1024 started...finished! time: 7.813539505004883 ms.\n",
      "n=2048 started...finished! time: 17.29043960571289 ms.\n",
      "n=4096 started...finished! time: 38.28385829925537 ms.\n",
      "n=8192 started...finished! time: 83.7507438659668 ms.\n",
      "n=16384 started...finished! time: 181.07811450958252 ms.\n",
      "quick\n",
      "n=256 started...finished! time: 1.298980712890625 ms.\n",
      "n=512 started...finished! time: 2.908315658569336 ms.\n",
      "n=1024 started...finished! time: 6.411480903625488 ms.\n",
      "n=2048 started...finished! time: 13.54557991027832 ms.\n",
      "n=4096 started...finished! time: 29.55711841583252 ms.\n",
      "n=8192 started...finished! time: 62.80579566955566 ms.\n",
      "n=16384 started...finished! time: 134.92809295654297 ms.\n",
      "merge\n",
      "n=256 started...finished! time: 0.9194803237915039 ms.\n",
      "n=512 started...finished! time: 2.0667028427124023 ms.\n",
      "n=1024 started...finished! time: 4.569306373596191 ms.\n",
      "n=2048 started...finished! time: 10.008134841918945 ms.\n",
      "n=4096 started...finished! time: 21.519899368286133 ms.\n",
      "n=8192 started...finished! time: 46.66186332702637 ms.\n",
      "n=16384 started...finished! time: 100.39658069610596 ms.\n",
      "bucket\n",
      "n=256 started...finished! time: 0.38489818572998047 ms.\n",
      "n=512 started...finished! time: 0.7263803482055664 ms.\n",
      "n=1024 started...finished! time: 1.4749813079833984 ms.\n",
      "n=2048 started...finished! time: 4.433579444885254 ms.\n",
      "n=4096 started...finished! time: 7.439546585083008 ms.\n",
      "n=8192 started...finished! time: 16.842141151428223 ms.\n",
      "n=16384 started...finished! time: 28.094940185546875 ms.\n"
     ]
    }
   ],
   "source": [
    "times_all_sorted_swaped = {}\n",
    "for sort in sorts:\n",
    "    print(sort['label'])\n",
    "    times_all_sorted_swaped[sort['label']] = measure_times(sort['sort'], power_range=power_range, n_loop=n_loop, is_sorted=True, num_swaps=4)"
   ]
  },
  {
   "cell_type": "code",
   "execution_count": 35,
   "metadata": {},
   "outputs": [
    {
     "data": {
      "text/plain": [
       "<matplotlib.legend.Legend at 0x15149eb710>"
      ]
     },
     "execution_count": 35,
     "metadata": {},
     "output_type": "execute_result"
    },
    {
     "data": {
      "image/png": "[encoded data removed]",
      "text/plain": [
       "<matplotlib.figure.Figure at 0x1514b73d68>"
      ]
     },
     "metadata": {},
     "output_type": "display_data"
    }
   ],
   "source": [
    "# log plot\n",
    "for sort in sorts:\n",
    "    plt.scatter(ns, times_all_sorted_swaped[sort['label']], label=sort['label'], color=sort['color'], marker=sort['marker'])\n",
    "plt.xscale('log')\n",
    "plt.yscale('log')\n",
    "plt.ylim(1e-4, 80)\n",
    "plt.grid(which='major', color='grey', linestyle='-')\n",
    "plt.legend()"
   ]
  },
  {
   "cell_type": "code",
   "execution_count": 30,
   "metadata": {},
   "outputs": [
    {
     "name": "stdout",
     "output_type": "stream",
     "text": [
      "0\n",
      "n=256 started...finished! time: 0.17928123474121094 ms.\n",
      "n=512 started...finished! time: 0.27469635009765625 ms.\n",
      "n=1024 started...finished! time: 0.5853796005249023 ms.\n",
      "n=2048 started...finished! time: 1.1544179916381836 ms.\n",
      "n=4096 started...finished! time: 2.3820972442626953 ms.\n",
      "n=8192 started...finished! time: 4.813117980957031 ms.\n",
      "n=16384 started...finished! time: 9.57402229309082 ms.\n",
      "1\n",
      "n=256 started...finished! time: 0.1672220230102539 ms.\n",
      "n=512 started...finished! time: 0.3753376007080078 ms.\n",
      "n=1024 started...finished! time: 0.7970380783081055 ms.\n",
      "n=2048 started...finished! time: 1.6502189636230469 ms.\n",
      "n=4096 started...finished! time: 3.455638885498047 ms.\n",
      "n=8192 started...finished! time: 6.895842552185059 ms.\n",
      "n=16384 started...finished! time: 12.779154777526855 ms.\n",
      "3\n",
      "n=256 started...finished! time: 0.2540779113769531 ms.\n",
      "n=512 started...finished! time: 0.6045770645141602 ms.\n",
      "n=1024 started...finished! time: 1.262960433959961 ms.\n",
      "n=2048 started...finished! time: 2.7658987045288086 ms.\n",
      "n=4096 started...finished! time: 5.2304840087890625 ms.\n",
      "n=8192 started...finished! time: 10.463643074035645 ms.\n",
      "n=16384 started...finished! time: 20.672597885131836 ms.\n",
      "10\n",
      "n=256 started...finished! time: 0.5557394027709961 ms.\n",
      "n=512 started...finished! time: 1.227583885192871 ms.\n",
      "n=1024 started...finished! time: 2.802581787109375 ms.\n",
      "n=2048 started...finished! time: 5.866060256958008 ms.\n",
      "n=4096 started...finished! time: 11.502819061279297 ms.\n",
      "n=8192 started...finished! time: 24.863319396972656 ms.\n",
      "n=16384 started...finished! time: 46.26472473144531 ms.\n",
      "30\n",
      "n=256 started...finished! time: 1.2788152694702148 ms.\n",
      "n=512 started...finished! time: 3.3423757553100586 ms.\n",
      "n=1024 started...finished! time: 7.315502166748047 ms.\n",
      "n=2048 started...finished! time: 15.090641975402832 ms.\n",
      "n=4096 started...finished! time: 30.829639434814453 ms.\n",
      "n=8192 started...finished! time: 60.791096687316895 ms.\n",
      "n=16384 started...finished! time: 125.06427764892578 ms.\n",
      "100\n",
      "n=256 started...finished! time: 2.8568172454833984 ms.\n",
      "n=512 started...finished! time: 8.348183631896973 ms.\n",
      "n=1024 started...finished! time: 20.56408405303955 ms.\n",
      "n=2048 started...finished! time: 45.126023292541504 ms.\n",
      "n=4096 started...finished! time: 93.23132514953613 ms.\n",
      "n=8192 started...finished! time: 194.02145862579346 ms.\n",
      "n=16384 started...finished! time: 388.60519886016846 ms.\n",
      "300\n",
      "n=256 started...finished! time: 4.308533668518066 ms.\n",
      "n=512 started...finished! time: 15.427823066711426 ms.\n",
      "n=1024 started...finished! time: 46.86257839202881 ms.\n",
      "n=2048 started...finished! time: 116.32838249206543 ms.\n",
      "n=4096 started...finished! time: 263.70808124542236 ms.\n",
      "n=8192 started...finished! time: 533.5976982116699 ms.\n",
      "n=16384 started...finished! time: 1126.561679840088 ms.\n",
      "1000\n",
      "n=256 started...finished! time: 4.468774795532227 ms.\n",
      "n=512 started...finished! time: 19.722962379455566 ms.\n",
      "n=1024 started...finished! time: 79.7466230392456 ms.\n",
      "n=2048 started...finished! time: 259.64548110961914 ms.\n",
      "n=4096 started...finished! time: 694.9453735351562 ms.\n",
      "n=8192 started...finished! time: 1636.1334371566772 ms.\n",
      "n=16384 started...finished! time: 3748.48801612854 ms.\n",
      "3000\n",
      "n=256 started...finished! time: 4.589662551879883 ms.\n",
      "n=512 started...finished! time: 20.86869716644287 ms.\n",
      "n=1024 started...finished! time: 92.31710433959961 ms.\n",
      "n=2048 started...finished! time: 377.1678638458252 ms.\n",
      "n=4096 started...finished! time: 1286.2477588653564 ms.\n",
      "n=8192 started...finished! time: 3737.5563049316406 ms.\n",
      "n=16384 started...finished! time: 9316.41857624054 ms.\n",
      "10000\n",
      "n=256 started...finished! time: 4.790058135986328 ms.\n",
      "n=512 started...finished! time: 20.615921020507812 ms.\n",
      "n=1024 started...finished! time: 90.13552188873291 ms.\n",
      "n=2048 started...finished! time: 375.8800411224365 ms.\n",
      "n=4096 started...finished! time: 1530.1759338378906 ms.\n",
      "n=8192 started...finished! time: 5783.077259063721 ms.\n",
      "n=16384 started...finished! time: 18837.08984375 ms.\n"
     ]
    }
   ],
   "source": [
    "times_all_num_swaps = {}\n",
    "for num_swaps in [0, 1, 3, 10, 30, 100, 300, 1000, 3000, 10000]:\n",
    "    print(num_swaps)\n",
    "    times_all_num_swaps[num_swaps] = measure_times(insertion_sort, power_range=power_range, n_loop=n_loop, is_sorted=True, num_swaps=num_swaps)"
   ]
  },
  {
   "cell_type": "code",
   "execution_count": 31,
   "metadata": {},
   "outputs": [
    {
     "data": {
      "text/plain": [
       "<matplotlib.legend.Legend at 0x152143feb8>"
      ]
     },
     "execution_count": 31,
     "metadata": {},
     "output_type": "execute_result"
    },
    {
     "data": {
      "image/png": "[encoded data removed]",
      "text/plain": [
       "<matplotlib.figure.Figure at 0x151f961e10>"
      ]
     },
     "metadata": {},
     "output_type": "display_data"
    }
   ],
   "source": [
    "# log plot\n",
    "for num_swaps in times_all_num_swaps.keys():\n",
    "    plt.scatter(ns, times_all_num_swaps[num_swaps], label=num_swaps)\n",
    "plt.xscale('log')\n",
    "plt.yscale('log')\n",
    "plt.grid(which='major', color='grey', linestyle='-')\n",
    "plt.grid(which='major', color='lightgrey', linestyle='-')\n",
    "plt.legend()"
   ]
  },
  {
   "cell_type": "code",
   "execution_count": 32,
   "metadata": {},
   "outputs": [],
   "source": [
    "def measure_times_for_small(a_sort, n_range=(2, 12, 2), n_loop=1000, max_int=100):\n",
    "    times = []\n",
    "    for n in n_range:\n",
    "        print(\"n=\" + str(n) + \" started...\", end=\"\")\n",
    "        \n",
    "        arrays = [list(np.random.randint(0, max_int+1, n)) for _ in range(n_loop)]\n",
    "                        \n",
    "        start_time = time.time()\n",
    "        for array in arrays:\n",
    "            a_sort(array)\n",
    "        averaged_time = (time.time() - start_time) / n_loop\n",
    "        times.append(averaged_time)\n",
    "        print(\"finished! time: \" + str(averaged_time * 1000) + \" ms.\")\n",
    "    \n",
    "    return times"
   ]
  },
  {
   "cell_type": "code",
   "execution_count": 33,
   "metadata": {},
   "outputs": [
    {
     "name": "stdout",
     "output_type": "stream",
     "text": [
      "selection\n",
      "n=2 started...finished! time: 0.0012608790397644041 ms.\n",
      "n=4 started...finished! time: 0.002937948703765869 ms.\n",
      "n=6 started...finished! time: 0.005037617683410644 ms.\n",
      "n=8 started...finished! time: 0.007316858768463134 ms.\n",
      "n=10 started...finished! time: 0.010270330905914307 ms.\n",
      "n=12 started...finished! time: 0.013026001453399659 ms.\n",
      "n=14 started...finished! time: 0.016522080898284913 ms.\n",
      "insertion\n",
      "n=2 started...finished! time: 0.0011022424697875977 ms.\n",
      "n=4 started...finished! time: 0.002718980312347412 ms.\n",
      "n=6 started...finished! time: 0.0049562716484069826 ms.\n",
      "n=8 started...finished! time: 0.007727720737457275 ms.\n",
      "n=10 started...finished! time: 0.01101835012435913 ms.\n",
      "n=12 started...finished! time: 0.014871749877929687 ms.\n",
      "n=14 started...finished! time: 0.019544858932495118 ms.\n",
      "heap\n",
      "n=2 started...finished! time: 0.002539939880371094 ms.\n",
      "n=4 started...finished! time: 0.006171119213104248 ms.\n",
      "n=6 started...finished! time: 0.010798330307006837 ms.\n",
      "n=8 started...finished! time: 0.016590659618377687 ms.\n",
      "n=10 started...finished! time: 0.022811388969421385 ms.\n",
      "n=12 started...finished! time: 0.029163589477539064 ms.\n",
      "n=14 started...finished! time: 0.03578084945678711 ms.\n",
      "quick\n",
      "n=2 started...finished! time: 0.0044113206863403325 ms.\n",
      "n=4 started...finished! time: 0.010961389541625977 ms.\n",
      "n=6 started...finished! time: 0.017939751148223878 ms.\n",
      "n=8 started...finished! time: 0.025377728939056394 ms.\n",
      "n=10 started...finished! time: 0.03343481063842774 ms.\n",
      "n=12 started...finished! time: 0.04116708755493164 ms.\n",
      "n=14 started...finished! time: 0.04927430152893066 ms.\n",
      "merge\n",
      "n=2 started...finished! time: 0.0004382610321044922 ms.\n",
      "n=4 started...finished! time: 0.004070498943328857 ms.\n",
      "n=6 started...finished! time: 0.010799190998077393 ms.\n",
      "n=8 started...finished! time: 0.013037209510803224 ms.\n",
      "n=10 started...finished! time: 0.020527541637420654 ms.\n",
      "n=12 started...finished! time: 0.028099610805511474 ms.\n",
      "n=14 started...finished! time: 0.031212472915649415 ms.\n",
      "bucket\n",
      "n=2 started...finished! time: 0.0004161524772644043 ms.\n",
      "n=4 started...finished! time: 0.008722100257873535 ms.\n",
      "n=6 started...finished! time: 0.011741271018981933 ms.\n",
      "n=8 started...finished! time: 0.014786341190338136 ms.\n",
      "n=10 started...finished! time: 0.01779794931411743 ms.\n",
      "n=12 started...finished! time: 0.020817420482635497 ms.\n",
      "n=14 started...finished! time: 0.023716459274291994 ms.\n"
     ]
    }
   ],
   "source": [
    "times_all_small = {}\n",
    "n_range = range(2, 16, 2)\n",
    "n_loop = 100000\n",
    "for sort in sorts:\n",
    "    print(sort['label'])\n",
    "    times_all_small[sort['label']] = measure_times_for_small(sort['sort'], n_range=n_range, n_loop=n_loop)"
   ]
  },
  {
   "cell_type": "code",
   "execution_count": 34,
   "metadata": {},
   "outputs": [
    {
     "data": {
      "text/plain": [
       "(0.0, 5e-05)"
      ]
     },
     "execution_count": 34,
     "metadata": {},
     "output_type": "execute_result"
    },
    {
     "data": {
      "image/png": "[encoded data removed]",
      "text/plain": [
       "<matplotlib.figure.Figure at 0x15215010b8>"
      ]
     },
     "metadata": {},
     "output_type": "display_data"
    }
   ],
   "source": [
    "# linear plot\n",
    "for sort in sorts:\n",
    "    plt.scatter(n_range, times_all_small[sort['label']], label=sort['label'], color=sort['color'], marker=sort['marker'])\n",
    "plt.legend()\n",
    "plt.ylim(0.0, 0.00005)"
   ]
  },
  {
   "cell_type": "code",
   "execution_count": null,
   "metadata": {},
   "outputs": [],
   "source": []
  },
  {
   "cell_type": "code",
   "execution_count": null,
   "metadata": {},
   "outputs": [],
   "source": []
  }
 ],
 "metadata": {
  "kernelspec": {
   "display_name": "Python 3",
   "language": "python",
   "name": "python3"
  },
  "language_info": {
   "codemirror_mode": {
    "name": "ipython",
    "version": 3
   },
   "file_extension": ".py",
   "mimetype": "text/x-python",
   "name": "python",
   "nbconvert_exporter": "python",
   "pygments_lexer": "ipython3",
   "version": "3.6.4"
  }
 },
 "nbformat": 4,
 "nbformat_minor": 2
}
