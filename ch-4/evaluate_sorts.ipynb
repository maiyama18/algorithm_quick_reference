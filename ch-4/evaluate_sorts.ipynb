{
 "cells": [
  {
   "cell_type": "code",
   "execution_count": 1,
   "metadata": {},
   "outputs": [],
   "source": [
    "import time\n",
    "import numpy as np\n",
    "import matplotlib.pyplot as plt\n",
    "%matplotlib inline"
   ]
  },
  {
   "cell_type": "code",
   "execution_count": 2,
   "metadata": {},
   "outputs": [],
   "source": [
    "from insertion_sort import insertion_sort\n",
    "from selection_sort import selection_sort\n",
    "from heap_sort import heap_sort\n",
    "from quick_sort import quick_sort\n",
    "from merge_sort import merge_sort\n",
    "from bucket_sort import bucket_sort"
   ]
  },
  {
   "cell_type": "code",
   "execution_count": 3,
   "metadata": {},
   "outputs": [],
   "source": [
    "def measure_times(a_sort, power_range=(3, 12), n_loop=1000, max_int=10000, duplication=False):\n",
    "    times = []\n",
    "    for p in power_range:\n",
    "        n = 2**p\n",
    "        print(\"n=\" + str(n) + \" started...\", end=\"\")\n",
    "        if duplication:\n",
    "            # each array has 20 same values on average\n",
    "            arrays = [list(np.random.randint(0, (n//20)+1, n)) for _ in range(n_loop)] \n",
    "        else:\n",
    "            arrays = [list(np.random.randint(0, max_int+1, n)) for _ in range(n_loop)]\n",
    "        start_time = time.time()\n",
    "        for array in arrays:\n",
    "            a_sort(array)\n",
    "        averaged_time = (time.time() - start_time) / n_loop\n",
    "        times.append(averaged_time)\n",
    "        print(\"finished! time: \" + str(averaged_time * 1000) + \" ms.\")\n",
    "    \n",
    "    return times"
   ]
  },
  {
   "cell_type": "code",
   "execution_count": 9,
   "metadata": {},
   "outputs": [
    {
     "name": "stdout",
     "output_type": "stream",
     "text": [
      "n=4 started...finished! time: 0.010709762573242188 ms.\n",
      "n=8 started...finished! time: 0.0214997927347819 ms.\n",
      "n=16 started...finished! time: 0.04340012868245443 ms.\n",
      "n=32 started...finished! time: 0.059179464975992836 ms.\n",
      "n=64 started...finished! time: 0.10076363881429036 ms.\n",
      "n=128 started...finished! time: 0.20125627517700195 ms.\n",
      "n=256 started...finished! time: 0.4112466176350912 ms.\n",
      "n=512 started...finished! time: 1.0231828689575195 ms.\n",
      "n=1024 started...finished! time: 1.720123291015625 ms.\n",
      "n=2048 started...finished! time: 3.492143154144287 ms.\n",
      "n=4096 started...finished! time: 7.684780756632487 ms.\n",
      "n=8192 started...finished! time: 16.995150248209633 ms.\n"
     ]
    }
   ],
   "source": [
    "times = measure_times(bucket_sort, power_range=range(2, 14), n_loop=300)"
   ]
  },
  {
   "cell_type": "code",
   "execution_count": 45,
   "metadata": {},
   "outputs": [
    {
     "name": "stdout",
     "output_type": "stream",
     "text": [
      "n=3 started...finished! time: 0.0005404154459635416 ms.\n",
      "n=9 started...finished! time: 0.0012079874674479165 ms.\n",
      "n=27 started...finished! time: 0.004108746846516928 ms.\n",
      "n=81 started...finished! time: 0.017301241556803383 ms.\n",
      "n=243 started...finished! time: 0.1255353291829427 ms.\n",
      "n=729 started...finished! time: 0.2686659495035807 ms.\n",
      "n=2187 started...finished! time: 1.023268699645996 ms.\n",
      "n=6561 started...finished! time: 3.1094392140706377 ms.\n",
      "n=19683 started...finished! time: 12.779895464579266 ms.\n",
      "n=59049 started...finished! time: 36.4997943242391 ms.\n",
      "n=177147 started...finished! time: 125.86463292439778 ms.\n",
      "n=531441 started...finished! time: 465.84999561309814 ms.\n"
     ]
    }
   ],
   "source": [
    "times = measure_times(sorted, max_power=12, n_loop=30)"
   ]
  },
  {
   "cell_type": "code",
   "execution_count": 54,
   "metadata": {},
   "outputs": [
    {
     "data": {
      "text/plain": [
       "<matplotlib.collections.PathCollection at 0x1580c8d68>"
      ]
     },
     "execution_count": 54,
     "metadata": {},
     "output_type": "execute_result"
    },
    {
     "data": {
      "image/png": "[encoded data removed]",
      "text/plain": [
       "<matplotlib.figure.Figure at 0x1580915f8>"
      ]
     },
     "metadata": {},
     "output_type": "display_data"
    }
   ],
   "source": [
    "ns = [2**i for i in range(1, 13)]\n",
    "plt.scatter(ns, times)"
   ]
  },
  {
   "cell_type": "code",
   "execution_count": 61,
   "metadata": {},
   "outputs": [],
   "source": [
    "from scipy.optimize import curve_fit\n",
    "def n1_func(x, a):\n",
    "    return a * x\n",
    "def n2_func(x, a):\n",
    "    return a * x**2\n",
    "def nlogn_func(x, a):\n",
    "    return a * x * np.log2(x)"
   ]
  },
  {
   "cell_type": "code",
   "execution_count": 56,
   "metadata": {},
   "outputs": [],
   "source": [
    "params, cov = curve_fit(n2_func, ns, times)"
   ]
  },
  {
   "cell_type": "code",
   "execution_count": 57,
   "metadata": {},
   "outputs": [
    {
     "data": {
      "text/plain": [
       "array([9.24811834e-08])"
      ]
     },
     "execution_count": 57,
     "metadata": {},
     "output_type": "execute_result"
    }
   ],
   "source": [
    "params"
   ]
  },
  {
   "cell_type": "code",
   "execution_count": 58,
   "metadata": {},
   "outputs": [
    {
     "data": {
      "text/plain": [
       "[<matplotlib.lines.Line2D at 0x1580d6dd8>]"
      ]
     },
     "execution_count": 58,
     "metadata": {},
     "output_type": "execute_result"
    },
    {
     "data": {
      "image/png": "[encoded data removed]",
      "text/plain": [
       "<matplotlib.figure.Figure at 0x1580d69b0>"
      ]
     },
     "metadata": {},
     "output_type": "display_data"
    }
   ],
   "source": [
    "plt.scatter(ns, times)\n",
    "plt.plot(ns, params[0] * np.array(ns)**2)"
   ]
  },
  {
   "cell_type": "code",
   "execution_count": null,
   "metadata": {},
   "outputs": [],
   "source": []
  }
 ],
 "metadata": {
  "kernelspec": {
   "display_name": "Python 3",
   "language": "python",
   "name": "python3"
  },
  "language_info": {
   "codemirror_mode": {
    "name": "ipython",
    "version": 3
   },
   "file_extension": ".py",
   "mimetype": "text/x-python",
   "name": "python",
   "nbconvert_exporter": "python",
   "pygments_lexer": "ipython3",
   "version": "3.6.4"
  }
 },
 "nbformat": 4,
 "nbformat_minor": 2
}
