{
 "cells": [
  {
   "cell_type": "code",
   "execution_count": 1,
   "metadata": {},
   "outputs": [],
   "source": [
    "import time\n",
    "import numpy as np\n",
    "import matplotlib.pyplot as plt\n",
    "%matplotlib inline"
   ]
  },
  {
   "cell_type": "code",
   "execution_count": 2,
   "metadata": {},
   "outputs": [],
   "source": [
    "from insertion_sort import insertion_sort\n",
    "from selection_sort import selection_sort\n",
    "from heap_sort import heap_sort\n",
    "from quick_sort import quick_sort\n",
    "from merge_sort import merge_sort\n",
    "from bucket_sort import bucket_sort"
   ]
  },
  {
   "cell_type": "code",
   "execution_count": 3,
   "metadata": {},
   "outputs": [],
   "source": [
    "def measure_times(a_sort, power_range=(2, 12), n_loop=200, max_int=10000, duplication=False, is_sorted=False, num_swaps=0):\n",
    "    times = []\n",
    "    for p in power_range:\n",
    "        n = 2**p\n",
    "        \n",
    "        print(\"n=\" + str(n) + \" started...\", end=\"\")\n",
    "        \n",
    "        if duplication:\n",
    "            # each array has 100 same values on average\n",
    "            arrays = [list(np.random.randint(0, (n//100)+1, n)) for _ in range(n_loop)] \n",
    "        else:\n",
    "            arrays = [list(np.random.randint(0, max_int+1, n)) for _ in range(n_loop)]\n",
    "        \n",
    "        if is_sorted:\n",
    "            for array in arrays:\n",
    "                array.sort()\n",
    "            if num_swaps != 0:\n",
    "                for array in arrays:\n",
    "                    for _ in range(num_swaps):\n",
    "                        i1, i2 = np.random.choice(n, 2)\n",
    "                        array[i1], array[i2] = array[i2], array[i1]\n",
    "                        \n",
    "        start_time = time.time()\n",
    "        for array in arrays:\n",
    "            a_sort(array)\n",
    "        averaged_time = (time.time() - start_time) / n_loop\n",
    "        times.append(averaged_time)\n",
    "        print(\"finished! time: \" + str(averaged_time * 1000) + \" ms.\")\n",
    "    \n",
    "    return times"
   ]
  },
  {
   "cell_type": "code",
   "execution_count": 4,
   "metadata": {},
   "outputs": [],
   "source": [
    "# preparation for fitting\n",
    "from scipy.optimize import curve_fit\n",
    "def n1_func(n, a):\n",
    "    return a * n\n",
    "def n2_func(n, a):\n",
    "    return a * n**2\n",
    "def nlogn_func(n, a):\n",
    "    return a * n * np.log2(n)"
   ]
  },
  {
   "cell_type": "code",
   "execution_count": 5,
   "metadata": {},
   "outputs": [],
   "source": [
    "power_range = range(8, 15)\n",
    "ns = np.array([2**p for p in power_range])\n",
    "n_loop = 50\n",
    "max_int = 10000\n",
    "\n",
    "sorts = [\n",
    "    {\n",
    "        'label': 'selection',\n",
    "        'sort': selection_sort,\n",
    "        'color': '#DA0017',\n",
    "        'marker': 'o',\n",
    "        'fit_func': n2_func\n",
    "    },\n",
    "    {\n",
    "        'label': 'insertion',\n",
    "        'sort': insertion_sort,\n",
    "        'color': '#2C6AAB',\n",
    "        'marker': '^',\n",
    "        'fit_func': n2_func\n",
    "    },\n",
    "    {\n",
    "        'label': 'heap',\n",
    "        'sort': heap_sort,\n",
    "        'color': '#40A43A',\n",
    "        'marker': 'v',\n",
    "        'fit_func': nlogn_func\n",
    "    },\n",
    "    {\n",
    "        'label': 'quick',\n",
    "        'sort': quick_sort,\n",
    "        'color': '#863693',\n",
    "        'marker': 's',\n",
    "        'fit_func': nlogn_func\n",
    "    },\n",
    "    {\n",
    "        'label': 'merge',\n",
    "        'sort': merge_sort,\n",
    "        'color': '#FE6B06',\n",
    "        'marker': '*',\n",
    "        'fit_func': nlogn_func\n",
    "    },\n",
    "    {\n",
    "        'label': 'bucket',\n",
    "        'sort': bucket_sort,\n",
    "        'color': '#754239',\n",
    "        'marker': '+',\n",
    "        'fit_func': n1_func\n",
    "    }\n",
    "]"
   ]
  },
  {
   "cell_type": "code",
   "execution_count": 6,
   "metadata": {},
   "outputs": [
    {
     "name": "stdout",
     "output_type": "stream",
     "text": [
      "selection\n",
      "n=256 started...finished! time: 3.5143184661865234 ms.\n",
      "n=512 started...finished! time: 11.80837631225586 ms.\n",
      "n=1024 started...finished! time: 49.84764099121094 ms.\n",
      "n=2048 started...finished! time: 202.06151962280273 ms.\n",
      "n=4096 started...finished! time: 818.3641624450684 ms.\n",
      "n=8192 started...finished! time: 3312.1819400787354 ms.\n",
      "n=16384 started...finished! time: 13303.676042556763 ms.\n",
      "insertion\n",
      "n=256 started...finished! time: 4.656558036804199 ms.\n",
      "n=512 started...finished! time: 21.094279289245605 ms.\n",
      "n=1024 started...finished! time: 85.12791633605957 ms.\n",
      "n=2048 started...finished! time: 370.9462261199951 ms.\n",
      "n=4096 started...finished! time: 1518.7958240509033 ms.\n",
      "n=8192 started...finished! time: 5825.133500099182 ms.\n",
      "n=16384 started...finished! time: 24712.962760925293 ms.\n",
      "heap\n",
      "n=256 started...finished! time: 1.4266204833984375 ms.\n",
      "n=512 started...finished! time: 3.4064817428588867 ms.\n",
      "n=1024 started...finished! time: 7.826781272888184 ms.\n",
      "n=2048 started...finished! time: 17.38111972808838 ms.\n",
      "n=4096 started...finished! time: 39.50212478637695 ms.\n",
      "n=8192 started...finished! time: 83.21163654327393 ms.\n",
      "n=16384 started...finished! time: 177.9511594772339 ms.\n",
      "quick\n",
      "n=256 started...finished! time: 1.376938819885254 ms.\n",
      "n=512 started...finished! time: 3.1240367889404297 ms.\n",
      "n=1024 started...finished! time: 6.837005615234375 ms.\n",
      "n=2048 started...finished! time: 14.104161262512207 ms.\n",
      "n=4096 started...finished! time: 30.25010108947754 ms.\n",
      "n=8192 started...finished! time: 64.82372283935547 ms.\n",
      "n=16384 started...finished! time: 141.57311916351318 ms.\n",
      "merge\n",
      "n=256 started...finished! time: 1.3953781127929688 ms.\n",
      "n=512 started...finished! time: 2.1663570404052734 ms.\n",
      "n=1024 started...finished! time: 4.916181564331055 ms.\n",
      "n=2048 started...finished! time: 10.502076148986816 ms.\n",
      "n=4096 started...finished! time: 22.567777633666992 ms.\n",
      "n=8192 started...finished! time: 48.83187770843506 ms.\n",
      "n=16384 started...finished! time: 105.81456184387207 ms.\n",
      "bucket\n",
      "n=256 started...finished! time: 0.38417816162109375 ms.\n",
      "n=512 started...finished! time: 0.7782793045043945 ms.\n",
      "n=1024 started...finished! time: 1.5896987915039062 ms.\n",
      "n=2048 started...finished! time: 3.831019401550293 ms.\n",
      "n=4096 started...finished! time: 6.911182403564453 ms.\n",
      "n=8192 started...finished! time: 15.889940261840822 ms.\n",
      "n=16384 started...finished! time: 21.469836235046387 ms.\n"
     ]
    }
   ],
   "source": [
    "times_all = {}\n",
    "for sort in sorts:\n",
    "    print(sort['label'])\n",
    "    times_all[sort['label']] = measure_times(sort['sort'], power_range=power_range, n_loop=n_loop)"
   ]
  },
  {
   "cell_type": "code",
   "execution_count": 7,
   "metadata": {},
   "outputs": [
    {
     "data": {
      "text/plain": [
       "<matplotlib.legend.Legend at 0x15162560b8>"
      ]
     },
     "execution_count": 7,
     "metadata": {},
     "output_type": "execute_result"
    },
    {
     "data": {
      "image/png": "[encoded data removed]",
      "text/plain": [
       "<matplotlib.figure.Figure at 0x15157492e8>"
      ]
     },
     "metadata": {},
     "output_type": "display_data"
    }
   ],
   "source": [
    "# linear plot\n",
    "for sort in sorts:\n",
    "    plt.scatter(ns, times_all[sort['label']], label=sort['label'], color=sort['color'])\n",
    "plt.legend()"
   ]
  },
  {
   "cell_type": "code",
   "execution_count": 8,
   "metadata": {},
   "outputs": [
    {
     "data": {
      "text/plain": [
       "<matplotlib.legend.Legend at 0x15159100f0>"
      ]
     },
     "execution_count": 8,
     "metadata": {},
     "output_type": "execute_result"
    },
    {
     "data": {
      "image/png": "[encoded data removed]",
      "text/plain": [
       "<matplotlib.figure.Figure at 0x1516263ac8>"
      ]
     },
     "metadata": {},
     "output_type": "display_data"
    }
   ],
   "source": [
    "# log plot\n",
    "for sort in sorts:\n",
    "    plt.scatter(ns, times_all[sort['label']], label=sort['label'], color=sort['color'])\n",
    "plt.xscale('log')\n",
    "plt.yscale('log')\n",
    "plt.ylim(2e-4, 200)\n",
    "plt.grid(which='major', color='grey', linestyle='-')\n",
    "plt.legend()"
   ]
  },
  {
   "cell_type": "code",
   "execution_count": 9,
   "metadata": {},
   "outputs": [],
   "source": [
    "ns_fit = []\n",
    "for p in power_range:\n",
    "    for pp in range(10):\n",
    "        ns_fit.append(2**(p+0.1*pp))\n",
    "        \n",
    "fit_params = {}\n",
    "for sort in sorts:\n",
    "    fit_params[sort['label']], _ = curve_fit(sort['fit_func'], ns, times_all[sort['label']])"
   ]
  },
  {
   "cell_type": "code",
   "execution_count": 10,
   "metadata": {},
   "outputs": [
    {
     "data": {
      "text/plain": [
       "<matplotlib.legend.Legend at 0x1517888320>"
      ]
     },
     "execution_count": 10,
     "metadata": {},
     "output_type": "execute_result"
    },
    {
     "data": {
      "image/png": "[encoded data removed]",
      "text/plain": [
       "<matplotlib.figure.Figure at 0x1517883e10>"
      ]
     },
     "metadata": {},
     "output_type": "display_data"
    }
   ],
   "source": [
    "# log plot with fitting curve\n",
    "for sort in sorts:\n",
    "    plt.scatter(ns, times_all[sort['label']], label=sort['label'], color=sort['color'])\n",
    "    plt.plot(ns_fit, sort['fit_func'](np.array(ns_fit), fit_params[sort['label']][0]), color=sort['color'])\n",
    "plt.xscale('log')\n",
    "plt.yscale('log')\n",
    "plt.grid(which='major', color='grey', linestyle='-')\n",
    "plt.legend()"
   ]
  },
  {
   "cell_type": "code",
   "execution_count": null,
   "metadata": {},
   "outputs": [
    {
     "name": "stdout",
     "output_type": "stream",
     "text": [
      "selection\n",
      "n=256 started...finished! time: 3.1452226638793945 ms.\n",
      "n=512 started...finished! time: 11.763219833374023 ms.\n",
      "n=1024 started...finished! time: 46.14311695098877 ms.\n",
      "n=2048 started...finished! time: 194.53684329986572 ms.\n",
      "n=4096 started...finished! time: 813.5954999923706 ms.\n",
      "n=8192 started...finished! time: 3286.498441696167 ms.\n",
      "n=16384 started..."
     ]
    }
   ],
   "source": [
    "times_all_duplicate = {}\n",
    "for sort in sorts:\n",
    "    print(sort['label'])\n",
    "    times_all_duplicate[sort['label']] = measure_times(sort['sort'], power_range=power_range, n_loop=n_loop, duplication=True)"
   ]
  },
  {
   "cell_type": "code",
   "execution_count": null,
   "metadata": {},
   "outputs": [],
   "source": [
    "# log plot\n",
    "for sort in sorts:\n",
    "    plt.scatter(ns, times_all_duplicate[sort['label']], label=sort['label'], color=sort['color'])\n",
    "plt.xscale('log')\n",
    "plt.yscale('log')\n",
    "plt.grid(which='major', color='grey', linestyle='-')\n",
    "plt.grid(which='major', color='lightgrey', linestyle='-')\n",
    "plt.legend()"
   ]
  },
  {
   "cell_type": "code",
   "execution_count": null,
   "metadata": {},
   "outputs": [],
   "source": [
    "times_all_sorted = {}\n",
    "for sort in sorts:\n",
    "    print(sort['label'])\n",
    "    times_all_sorted[sort['label']] = measure_times(sort['sort'], power_range=power_range, n_loop=n_loop, is_sorted=True)"
   ]
  },
  {
   "cell_type": "code",
   "execution_count": null,
   "metadata": {},
   "outputs": [],
   "source": [
    "# log plot\n",
    "for sort in sorts:\n",
    "    plt.scatter(ns, times_all_sorted[sort['label']], label=sort['label'], color=sort['color'])\n",
    "plt.xscale('log')\n",
    "plt.yscale('log')\n",
    "plt.grid(which='major', color='grey', linestyle='-')\n",
    "plt.grid(which='major', color='lightgrey', linestyle='-')\n",
    "plt.legend()"
   ]
  },
  {
   "cell_type": "code",
   "execution_count": null,
   "metadata": {},
   "outputs": [],
   "source": [
    "times_all_sorted_swaped = {}\n",
    "for sort in sorts:\n",
    "    print(sort['label'])\n",
    "    times_all_sorted_swaped[sort['label']] = measure_times(sort['sort'], power_range=power_range, n_loop=n_loop, is_sorted=True, num_swaps=4)"
   ]
  },
  {
   "cell_type": "code",
   "execution_count": null,
   "metadata": {},
   "outputs": [],
   "source": [
    "# log plot\n",
    "for sort in sorts:\n",
    "    plt.scatter(ns, times_all_sorted_swaped[sort['label']], label=sort['label'], color=sort['color'])\n",
    "plt.xscale('log')\n",
    "plt.yscale('log')\n",
    "plt.ylim(1e-5, 1)\n",
    "plt.grid(which='major', color='grey', linestyle='-')\n",
    "plt.legend()"
   ]
  },
  {
   "cell_type": "code",
   "execution_count": null,
   "metadata": {},
   "outputs": [],
   "source": [
    "times_all_num_swaps = {}\n",
    "for num_swaps in [0, 1, 3, 10, 30, 100, 300, 1000, 3000, 10000]:\n",
    "    print(num_swaps)\n",
    "    times_all_num_swaps[num_swaps] = measure_times(insertion_sort, power_range=power_range, n_loop=n_loop, is_sorted=True, num_swaps=num_swaps)"
   ]
  },
  {
   "cell_type": "code",
   "execution_count": null,
   "metadata": {},
   "outputs": [],
   "source": [
    "# log plot\n",
    "for num_swaps in times_all.keys():\n",
    "    plt.scatter(ns, times_all_num_swaps[num_swaps], label=num_swaps)\n",
    "plt.xscale('log')\n",
    "plt.yscale('log')\n",
    "plt.grid(which='major', color='grey', linestyle='-')\n",
    "plt.grid(which='major', color='lightgrey', linestyle='-')\n",
    "plt.legend()"
   ]
  },
  {
   "cell_type": "code",
   "execution_count": null,
   "metadata": {},
   "outputs": [],
   "source": [
    "def measure_times_for_small(a_sort, n_range=(2, 12, 2), n_loop=1000, max_int=100):\n",
    "    times = []\n",
    "    for n in n_range:\n",
    "        print(\"n=\" + str(n) + \" started...\", end=\"\")\n",
    "        \n",
    "        arrays = [list(np.random.randint(0, max_int+1, n)) for _ in range(n_loop)]\n",
    "                        \n",
    "        start_time = time.time()\n",
    "        for array in arrays:\n",
    "            a_sort(array)\n",
    "        averaged_time = (time.time() - start_time) / n_loop\n",
    "        times.append(averaged_time)\n",
    "        print(\"finished! time: \" + str(averaged_time * 1000) + \" ms.\")\n",
    "    \n",
    "    return times"
   ]
  },
  {
   "cell_type": "code",
   "execution_count": null,
   "metadata": {},
   "outputs": [],
   "source": [
    "times_all_small = {}\n",
    "n_range = range(2, 16, 2)\n",
    "n_loop = 100000\n",
    "for sort in sorts:\n",
    "    print(sort['label'])\n",
    "    times_all_small[sort['label']] = measure_times_for_small(sort['sort'], n_range=n_range, n_loop=n_loop)"
   ]
  },
  {
   "cell_type": "code",
   "execution_count": null,
   "metadata": {},
   "outputs": [],
   "source": [
    "# linear plot\n",
    "for sort in sorts:\n",
    "    plt.scatter(n_range, times_all_small[sort['label']], label=sort['label'], color=sort['color'])\n",
    "plt.legend()\n",
    "plt.ylim(0.0, 0.00005)"
   ]
  },
  {
   "cell_type": "code",
   "execution_count": null,
   "metadata": {},
   "outputs": [],
   "source": []
  },
  {
   "cell_type": "code",
   "execution_count": null,
   "metadata": {},
   "outputs": [],
   "source": []
  }
 ],
 "metadata": {
  "kernelspec": {
   "display_name": "Python 3",
   "language": "python",
   "name": "python3"
  },
  "language_info": {
   "codemirror_mode": {
    "name": "ipython",
    "version": 3
   },
   "file_extension": ".py",
   "mimetype": "text/x-python",
   "name": "python",
   "nbconvert_exporter": "python",
   "pygments_lexer": "ipython3",
   "version": "3.6.4"
  }
 },
 "nbformat": 4,
 "nbformat_minor": 2
}
