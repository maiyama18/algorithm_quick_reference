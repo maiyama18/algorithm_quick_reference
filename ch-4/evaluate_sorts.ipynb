{
 "cells": [
  {
   "cell_type": "code",
   "execution_count": 2,
   "metadata": {},
   "outputs": [],
   "source": [
    "import time\n",
    "import numpy as np\n",
    "import matplotlib.pyplot as plt\n",
    "%matplotlib inline"
   ]
  },
  {
   "cell_type": "code",
   "execution_count": 3,
   "metadata": {},
   "outputs": [],
   "source": [
    "from insertion_sort import insertion_sort\n",
    "from selection_sort import selection_sort\n",
    "from heap_sort import heap_sort\n",
    "from quick_sort import quick_sort\n",
    "from merge_sort import merge_sort\n",
    "from bucket_sort import bucket_sort"
   ]
  },
  {
   "cell_type": "code",
   "execution_count": 4,
   "metadata": {},
   "outputs": [],
   "source": [
    "def measure_times(a_sort, power_range=(2, 12), n_loop=200, max_int=10000, duplication=False, is_sorted=False, num_swaps=0):\n",
    "    times = []\n",
    "    for p in power_range:\n",
    "        n = 2**p\n",
    "        \n",
    "        print(\"n=\" + str(n) + \" started...\", end=\"\")\n",
    "        \n",
    "        if duplication:\n",
    "            # each array has 100 same values on average\n",
    "            arrays = [list(np.random.randint(0, (n//100)+1, n)) for _ in range(n_loop)] \n",
    "        else:\n",
    "            arrays = [list(np.random.randint(0, max_int+1, n)) for _ in range(n_loop)]\n",
    "        \n",
    "        if is_sorted:\n",
    "            for array in arrays:\n",
    "                array.sort()\n",
    "            if num_swaps != 0:\n",
    "                for array in arrays:\n",
    "                    for _ in range(num_swaps):\n",
    "                        i1, i2 = np.random.choice(n, 2)\n",
    "                        array[i1], array[i2] = array[i2], array[i1]\n",
    "                        \n",
    "        start_time = time.time()\n",
    "        for array in arrays:\n",
    "            a_sort(array)\n",
    "        averaged_time = (time.time() - start_time) / n_loop\n",
    "        times.append(averaged_time)\n",
    "        print(\"finished! time: \" + str(averaged_time * 1000) + \" ms.\")\n",
    "    \n",
    "    return times"
   ]
  },
  {
   "cell_type": "code",
   "execution_count": 5,
   "metadata": {},
   "outputs": [],
   "source": [
    "# preparation for fitting\n",
    "from scipy.optimize import curve_fit\n",
    "def n1_func(n, a):\n",
    "    return a * n\n",
    "def n2_func(n, a):\n",
    "    return a * n**2\n",
    "def nlogn_func(n, a):\n",
    "    return a * n * np.log2(n)"
   ]
  },
  {
   "cell_type": "code",
   "execution_count": 6,
   "metadata": {},
   "outputs": [],
   "source": [
    "power_range = range(8, 15)\n",
    "ns = np.array([2**p for p in power_range])\n",
    "n_loop = 50\n",
    "max_int = 10000\n",
    "\n",
    "sorts = [\n",
    "    {\n",
    "        'label': 'selection',\n",
    "        'sort': selection_sort,\n",
    "        'color': '#DA0017',\n",
    "        'marker': 'o',\n",
    "        'fit_func': n2_func\n",
    "    },\n",
    "    {\n",
    "        'label': 'insertion',\n",
    "        'sort': insertion_sort,\n",
    "        'color': '#2C6AAB',\n",
    "        'marker': '^',\n",
    "        'fit_func': n2_func\n",
    "    },\n",
    "    {\n",
    "        'label': 'heap',\n",
    "        'sort': heap_sort,\n",
    "        'color': '#40A43A',\n",
    "        'marker': 'v',\n",
    "        'fit_func': nlogn_func\n",
    "    },\n",
    "    {\n",
    "        'label': 'quick',\n",
    "        'sort': quick_sort,\n",
    "        'color': '#863693',\n",
    "        'marker': 's',\n",
    "        'fit_func': nlogn_func\n",
    "    },\n",
    "    {\n",
    "        'label': 'merge',\n",
    "        'sort': merge_sort,\n",
    "        'color': '#FE6B06',\n",
    "        'marker': '*',\n",
    "        'fit_func': nlogn_func\n",
    "    },\n",
    "    {\n",
    "        'label': 'bucket',\n",
    "        'sort': bucket_sort,\n",
    "        'color': '#754239',\n",
    "        'marker': '+',\n",
    "        'fit_func': n1_func\n",
    "    }\n",
    "]"
   ]
  },
  {
   "cell_type": "code",
   "execution_count": 7,
   "metadata": {},
   "outputs": [
    {
     "name": "stdout",
     "output_type": "stream",
     "text": [
      "selection\n",
      "n=256 started...finished! time: 3.099355697631836 ms.\n",
      "n=512 started...finished! time: 12.46133804321289 ms.\n",
      "n=1024 started...finished! time: 55.57253837585449 ms.\n",
      "n=2048 started...finished! time: 218.5306453704834 ms.\n",
      "n=4096 started...finished! time: 777.3082399368286 ms.\n",
      "n=8192 started...finished! time: 3236.3666200637817 ms.\n",
      "n=16384 started...finished! time: 13385.37395954132 ms.\n",
      "insertion\n",
      "n=256 started...finished! time: 4.721741676330566 ms.\n",
      "n=512 started...finished! time: 20.391626358032227 ms.\n",
      "n=1024 started...finished! time: 85.85785865783691 ms.\n",
      "n=2048 started...finished! time: 373.4603214263916 ms.\n",
      "n=4096 started...finished! time: 1509.7001838684082 ms.\n",
      "n=8192 started...finished! time: 6500.75662612915 ms.\n",
      "n=16384 started...finished! time: 25925.932683944702 ms.\n",
      "heap\n",
      "n=256 started...finished! time: 1.4320611953735352 ms.\n",
      "n=512 started...finished! time: 3.3144760131835938 ms.\n",
      "n=1024 started...finished! time: 9.897642135620117 ms.\n",
      "n=2048 started...finished! time: 16.54411792755127 ms.\n",
      "n=4096 started...finished! time: 40.05767822265625 ms.\n",
      "n=8192 started...finished! time: 90.08963584899902 ms.\n",
      "n=16384 started...finished! time: 191.72492504119873 ms.\n",
      "quick\n",
      "n=256 started...finished! time: 1.8120384216308594 ms.\n",
      "n=512 started...finished! time: 3.397798538208008 ms.\n",
      "n=1024 started...finished! time: 7.259836196899414 ms.\n",
      "n=2048 started...finished! time: 14.538545608520508 ms.\n",
      "n=4096 started...finished! time: 30.6375789642334 ms.\n",
      "n=8192 started...finished! time: 76.12237930297852 ms.\n",
      "n=16384 started...finished! time: 180.22948265075684 ms.\n",
      "merge\n",
      "n=256 started...finished! time: 1.0934972763061523 ms.\n",
      "n=512 started...finished! time: 2.231884002685547 ms.\n",
      "n=1024 started...finished! time: 4.873547554016113 ms.\n",
      "n=2048 started...finished! time: 10.596637725830078 ms.\n",
      "n=4096 started...finished! time: 23.952441215515137 ms.\n",
      "n=8192 started...finished! time: 49.89234447479248 ms.\n",
      "n=16384 started...finished! time: 108.93781661987305 ms.\n",
      "bucket\n",
      "n=256 started...finished! time: 0.3856658935546875 ms.\n",
      "n=512 started...finished! time: 0.7895612716674805 ms.\n",
      "n=1024 started...finished! time: 1.6788625717163086 ms.\n",
      "n=2048 started...finished! time: 5.253024101257324 ms.\n",
      "n=4096 started...finished! time: 7.0186567306518555 ms.\n",
      "n=8192 started...finished! time: 17.70780086517334 ms.\n",
      "n=16384 started...finished! time: 21.993298530578613 ms.\n"
     ]
    }
   ],
   "source": [
    "times_all = {}\n",
    "for sort in sorts:\n",
    "    print(sort['label'])\n",
    "    times_all[sort['label']] = measure_times(sort['sort'], power_range=power_range, n_loop=n_loop)"
   ]
  },
  {
   "cell_type": "code",
   "execution_count": 25,
   "metadata": {},
   "outputs": [
    {
     "ename": "KeyError",
     "evalue": "'selection'",
     "output_type": "error",
     "traceback": [
      "\u001b[0;31m---------------------------------------------------------------------------\u001b[0m",
      "\u001b[0;31mKeyError\u001b[0m                                  Traceback (most recent call last)",
      "\u001b[0;32m<ipython-input-25-f9deacb2bb71>\u001b[0m in \u001b[0;36m<module>\u001b[0;34m()\u001b[0m\n\u001b[1;32m      1\u001b[0m \u001b[0;31m# linear plot\u001b[0m\u001b[0;34m\u001b[0m\u001b[0;34m\u001b[0m\u001b[0m\n\u001b[1;32m      2\u001b[0m \u001b[0;32mfor\u001b[0m \u001b[0msort\u001b[0m \u001b[0;32min\u001b[0m \u001b[0msorts\u001b[0m\u001b[0;34m:\u001b[0m\u001b[0;34m\u001b[0m\u001b[0m\n\u001b[0;32m----> 3\u001b[0;31m     \u001b[0mplt\u001b[0m\u001b[0;34m.\u001b[0m\u001b[0mscatter\u001b[0m\u001b[0;34m(\u001b[0m\u001b[0mns\u001b[0m\u001b[0;34m,\u001b[0m \u001b[0mtimes_all\u001b[0m\u001b[0;34m[\u001b[0m\u001b[0msort\u001b[0m\u001b[0;34m[\u001b[0m\u001b[0;34m'label'\u001b[0m\u001b[0;34m]\u001b[0m\u001b[0;34m]\u001b[0m\u001b[0;34m,\u001b[0m \u001b[0mlabel\u001b[0m\u001b[0;34m=\u001b[0m\u001b[0msort\u001b[0m\u001b[0;34m[\u001b[0m\u001b[0;34m'label'\u001b[0m\u001b[0;34m]\u001b[0m\u001b[0;34m,\u001b[0m \u001b[0mcolor\u001b[0m\u001b[0;34m=\u001b[0m\u001b[0msort\u001b[0m\u001b[0;34m[\u001b[0m\u001b[0;34m'color'\u001b[0m\u001b[0;34m]\u001b[0m\u001b[0;34m)\u001b[0m\u001b[0;34m\u001b[0m\u001b[0m\n\u001b[0m\u001b[1;32m      4\u001b[0m \u001b[0mplt\u001b[0m\u001b[0;34m.\u001b[0m\u001b[0mlegend\u001b[0m\u001b[0;34m(\u001b[0m\u001b[0;34m)\u001b[0m\u001b[0;34m\u001b[0m\u001b[0m\n",
      "\u001b[0;31mKeyError\u001b[0m: 'selection'"
     ]
    }
   ],
   "source": [
    "# linear plot\n",
    "for sort in sorts:\n",
    "    plt.scatter(ns, times_all[sort['label']], label=sort['label'], color=sort['color'])\n",
    "plt.legend()"
   ]
  },
  {
   "cell_type": "code",
   "execution_count": 23,
   "metadata": {},
   "outputs": [
    {
     "ename": "KeyError",
     "evalue": "'selection'",
     "output_type": "error",
     "traceback": [
      "\u001b[0;31m---------------------------------------------------------------------------\u001b[0m",
      "\u001b[0;31mKeyError\u001b[0m                                  Traceback (most recent call last)",
      "\u001b[0;32m<ipython-input-23-cad773c3295f>\u001b[0m in \u001b[0;36m<module>\u001b[0;34m()\u001b[0m\n\u001b[1;32m      1\u001b[0m \u001b[0;31m# log plot\u001b[0m\u001b[0;34m\u001b[0m\u001b[0;34m\u001b[0m\u001b[0m\n\u001b[1;32m      2\u001b[0m \u001b[0;32mfor\u001b[0m \u001b[0msort\u001b[0m \u001b[0;32min\u001b[0m \u001b[0msorts\u001b[0m\u001b[0;34m:\u001b[0m\u001b[0;34m\u001b[0m\u001b[0m\n\u001b[0;32m----> 3\u001b[0;31m     \u001b[0mplt\u001b[0m\u001b[0;34m.\u001b[0m\u001b[0mscatter\u001b[0m\u001b[0;34m(\u001b[0m\u001b[0mns\u001b[0m\u001b[0;34m,\u001b[0m \u001b[0mtimes_all\u001b[0m\u001b[0;34m[\u001b[0m\u001b[0msort\u001b[0m\u001b[0;34m[\u001b[0m\u001b[0;34m'label'\u001b[0m\u001b[0;34m]\u001b[0m\u001b[0;34m]\u001b[0m\u001b[0;34m,\u001b[0m \u001b[0mlabel\u001b[0m\u001b[0;34m=\u001b[0m\u001b[0msort\u001b[0m\u001b[0;34m[\u001b[0m\u001b[0;34m'label'\u001b[0m\u001b[0;34m]\u001b[0m\u001b[0;34m,\u001b[0m \u001b[0mcolor\u001b[0m\u001b[0;34m=\u001b[0m\u001b[0msort\u001b[0m\u001b[0;34m[\u001b[0m\u001b[0;34m'color'\u001b[0m\u001b[0;34m]\u001b[0m\u001b[0;34m)\u001b[0m\u001b[0;34m\u001b[0m\u001b[0m\n\u001b[0m\u001b[1;32m      4\u001b[0m \u001b[0mplt\u001b[0m\u001b[0;34m.\u001b[0m\u001b[0mxscale\u001b[0m\u001b[0;34m(\u001b[0m\u001b[0;34m'log'\u001b[0m\u001b[0;34m)\u001b[0m\u001b[0;34m\u001b[0m\u001b[0m\n\u001b[1;32m      5\u001b[0m \u001b[0mplt\u001b[0m\u001b[0;34m.\u001b[0m\u001b[0myscale\u001b[0m\u001b[0;34m(\u001b[0m\u001b[0;34m'log'\u001b[0m\u001b[0;34m)\u001b[0m\u001b[0;34m\u001b[0m\u001b[0m\n",
      "\u001b[0;31mKeyError\u001b[0m: 'selection'"
     ]
    }
   ],
   "source": [
    "# log plot\n",
    "for sort in sorts:\n",
    "    plt.scatter(ns, times_all[sort['label']], label=sort['label'], color=sort['color'])\n",
    "plt.xscale('log')\n",
    "plt.yscale('log')\n",
    "plt.ylim(2e-4, 80)\n",
    "plt.grid(which='major', color='grey', linestyle='-')\n",
    "plt.legend()"
   ]
  },
  {
   "cell_type": "code",
   "execution_count": 9,
   "metadata": {},
   "outputs": [],
   "source": [
    "ns_fit = []\n",
    "for p in power_range:\n",
    "    for pp in range(10):\n",
    "        ns_fit.append(2**(p+0.1*pp))\n",
    "        \n",
    "fit_params = {}\n",
    "for sort in sorts:\n",
    "    fit_params[sort['label']], _ = curve_fit(sort['fit_func'], ns, times_all[sort['label']])"
   ]
  },
  {
   "cell_type": "code",
   "execution_count": 10,
   "metadata": {},
   "outputs": [
    {
     "data": {
      "text/plain": [
       "<matplotlib.legend.Legend at 0x1517888320>"
      ]
     },
     "execution_count": 10,
     "metadata": {},
     "output_type": "execute_result"
    },
    {
     "data": {
      "image/png": "[encoded data removed]",
      "text/plain": [
       "<matplotlib.figure.Figure at 0x1517883e10>"
      ]
     },
     "metadata": {},
     "output_type": "display_data"
    }
   ],
   "source": [
    "# log plot with fitting curve\n",
    "for sort in sorts:\n",
    "    plt.scatter(ns, times_all[sort['label']], label=sort['label'], color=sort['color'])\n",
    "    plt.plot(ns_fit, sort['fit_func'](np.array(ns_fit), fit_params[sort['label']][0]), color=sort['color'])\n",
    "plt.xscale('log')\n",
    "plt.yscale('log')\n",
    "plt.grid(which='major', color='grey', linestyle='-')\n",
    "plt.legend()"
   ]
  },
  {
   "cell_type": "code",
   "execution_count": 12,
   "metadata": {},
   "outputs": [
    {
     "name": "stdout",
     "output_type": "stream",
     "text": [
      "selection\n",
      "n=256 started...finished! time: 3.1452226638793945 ms.\n",
      "n=512 started...finished! time: 11.763219833374023 ms.\n",
      "n=1024 started...finished! time: 46.14311695098877 ms.\n",
      "n=2048 started...finished! time: 194.53684329986572 ms.\n",
      "n=4096 started...finished! time: 813.5954999923706 ms.\n",
      "n=8192 started...finished! time: 3286.498441696167 ms.\n",
      "n=16384 started...finished! time: 13834.37445640564 ms.\n",
      "insertion\n",
      "n=256 started...finished! time: 3.110060691833496 ms.\n",
      "n=512 started...finished! time: 17.82832145690918 ms.\n",
      "n=1024 started...finished! time: 82.47236251831055 ms.\n",
      "n=2048 started...finished! time: 354.4714403152466 ms.\n",
      "n=4096 started...finished! time: 1504.2974948883057 ms.\n",
      "n=8192 started...finished! time: 6116.822075843811 ms.\n",
      "n=16384 started...finished! time: 24790.163741111755 ms.\n",
      "heap\n",
      "n=256 started...finished! time: 0.9900569915771485 ms.\n",
      "n=512 started...finished! time: 2.817397117614746 ms.\n",
      "n=1024 started...finished! time: 7.098102569580078 ms.\n",
      "n=2048 started...finished! time: 16.29899501800537 ms.\n",
      "n=4096 started...finished! time: 37.025837898254395 ms.\n",
      "n=8192 started...finished! time: 81.91300392150879 ms.\n",
      "n=16384 started...finished! time: 180.93793869018555 ms.\n",
      "quick\n",
      "n=256 started...finished! time: 4.92396354675293 ms.\n",
      "n=512 started...finished! time: 10.039620399475098 ms.\n",
      "n=1024 started...finished! time: 21.754403114318848 ms.\n",
      "n=2048 started...finished! time: 45.935163497924805 ms.\n",
      "n=4096 started...finished! time: 96.14327907562256 ms.\n",
      "n=8192 started...finished! time: 196.35491847991943 ms.\n",
      "n=16384 started...finished! time: 515.8658647537231 ms.\n",
      "merge\n",
      "n=256 started...finished! time: 2.08005428314209 ms.\n",
      "n=512 started...finished! time: 4.467062950134277 ms.\n",
      "n=1024 started...finished! time: 9.413022994995117 ms.\n",
      "n=2048 started...finished! time: 16.745777130126953 ms.\n",
      "n=4096 started...finished! time: 40.20470142364502 ms.\n",
      "n=8192 started...finished! time: 54.79124069213867 ms.\n",
      "n=16384 started...finished! time: 106.95372104644775 ms.\n",
      "bucket\n",
      "n=256 started...finished! time: 0.2205657958984375 ms.\n",
      "n=512 started...finished! time: 0.4491233825683594 ms.\n",
      "n=1024 started...finished! time: 0.9209012985229492 ms.\n",
      "n=2048 started...finished! time: 1.8381834030151367 ms.\n",
      "n=4096 started...finished! time: 3.658480644226074 ms.\n",
      "n=8192 started...finished! time: 8.000297546386719 ms.\n",
      "n=16384 started...finished! time: 15.1544189453125 ms.\n"
     ]
    }
   ],
   "source": [
    "times_all_duplicate = {}\n",
    "for sort in sorts:\n",
    "    print(sort['label'])\n",
    "    times_all_duplicate[sort['label']] = measure_times(sort['sort'], power_range=power_range, n_loop=n_loop, duplication=True)"
   ]
  },
  {
   "cell_type": "code",
   "execution_count": null,
   "metadata": {},
   "outputs": [],
   "source": [
    "# log plot\n",
    "for sort in sorts:\n",
    "    plt.scatter(ns, times_all_duplicate[sort['label']], label=sort['label'], color=sort['color'])\n",
    "plt.xscale('log')\n",
    "plt.yscale('log')\n",
    "plt.ylim(2e-4, 80)\n",
    "plt.grid(which='major', color='grey', linestyle='-')\n",
    "plt.grid(which='major', color='lightgrey', linestyle='-')\n",
    "plt.legend()"
   ]
  },
  {
   "cell_type": "code",
   "execution_count": 14,
   "metadata": {},
   "outputs": [
    {
     "name": "stdout",
     "output_type": "stream",
     "text": [
      "selection\n",
      "n=256 started...finished! time: 4.10736083984375 ms.\n",
      "n=512 started...finished! time: 16.643319129943848 ms.\n",
      "n=1024 started...finished! time: 68.0473804473877 ms.\n",
      "n=2048 started...finished! time: 277.1871566772461 ms.\n",
      "n=4096 started...finished! time: 1131.5606355667114 ms.\n",
      "n=8192 started...finished! time: 4380.360221862793 ms.\n",
      "n=16384 started...finished! time: 17417.98002243042 ms.\n",
      "insertion\n",
      "n=256 started...finished! time: 0.11813640594482422 ms.\n",
      "n=512 started...finished! time: 0.2982187271118164 ms.\n",
      "n=1024 started...finished! time: 0.5655813217163086 ms.\n",
      "n=2048 started...finished! time: 1.2492609024047852 ms.\n",
      "n=4096 started...finished! time: 2.3715972900390625 ms.\n",
      "n=8192 started...finished! time: 5.228424072265625 ms.\n",
      "n=16384 started...finished! time: 10.074100494384766 ms.\n",
      "heap\n",
      "n=256 started...finished! time: 1.5138769149780273 ms.\n",
      "n=512 started...finished! time: 3.6110782623291016 ms.\n",
      "n=1024 started...finished! time: 8.33439826965332 ms.\n",
      "n=2048 started...finished! time: 17.973742485046387 ms.\n",
      "n=4096 started...finished! time: 39.82311725616455 ms.\n",
      "n=8192 started...finished! time: 87.7314805984497 ms.\n",
      "n=16384 started...finished! time: 193.18876266479492 ms.\n",
      "quick\n",
      "n=256 started...finished! time: 1.5391016006469727 ms.\n",
      "n=512 started...finished! time: 3.1536245346069336 ms.\n",
      "n=1024 started...finished! time: 7.30870246887207 ms.\n",
      "n=2048 started...finished! time: 15.292901992797852 ms.\n",
      "n=4096 started...finished! time: 32.96224117279053 ms.\n",
      "n=8192 started...finished! time: 69.70265865325928 ms.\n",
      "n=16384 started...finished! time: 139.20916080474854 ms.\n",
      "merge\n",
      "n=256 started...finished! time: 0.9569549560546875 ms.\n",
      "n=512 started...finished! time: 2.1715593338012695 ms.\n",
      "n=1024 started...finished! time: 4.859461784362793 ms.\n",
      "n=2048 started...finished! time: 10.532522201538086 ms.\n",
      "n=4096 started...finished! time: 22.444677352905273 ms.\n",
      "n=8192 started...finished! time: 49.04273986816406 ms.\n",
      "n=16384 started...finished! time: 107.05690383911133 ms.\n",
      "bucket\n",
      "n=256 started...finished! time: 0.35965919494628906 ms.\n",
      "n=512 started...finished! time: 0.717620849609375 ms.\n",
      "n=1024 started...finished! time: 2.4618148803710938 ms.\n",
      "n=2048 started...finished! time: 3.13995361328125 ms.\n",
      "n=4096 started...finished! time: 7.156438827514648 ms.\n",
      "n=8192 started...finished! time: 17.421441078186035 ms.\n",
      "n=16384 started...finished! time: 24.064178466796875 ms.\n"
     ]
    }
   ],
   "source": [
    "times_all_sorted = {}\n",
    "for sort in sorts:\n",
    "    print(sort['label'])\n",
    "    times_all_sorted[sort['label']] = measure_times(sort['sort'], power_range=power_range, n_loop=n_loop, is_sorted=True)"
   ]
  },
  {
   "cell_type": "code",
   "execution_count": 15,
   "metadata": {},
   "outputs": [
    {
     "data": {
      "text/plain": [
       "<matplotlib.legend.Legend at 0x1520dc4588>"
      ]
     },
     "execution_count": 15,
     "metadata": {},
     "output_type": "execute_result"
    },
    {
     "data": {
      "image/png": "[encoded data removed]",
      "text/plain": [
       "<matplotlib.figure.Figure at 0x1520dc4160>"
      ]
     },
     "metadata": {},
     "output_type": "display_data"
    }
   ],
   "source": [
    "# log plot\n",
    "for sort in sorts:\n",
    "    plt.scatter(ns, times_all_sorted[sort['label']], label=sort['label'], color=sort['color'])\n",
    "plt.xscale('log')\n",
    "plt.yscale('log')\n",
    "plt.grid(which='major', color='grey', linestyle='-')\n",
    "plt.grid(which='major', color='lightgrey', linestyle='-')\n",
    "plt.legend()"
   ]
  },
  {
   "cell_type": "code",
   "execution_count": 16,
   "metadata": {},
   "outputs": [
    {
     "name": "stdout",
     "output_type": "stream",
     "text": [
      "selection\n",
      "n=256 started...finished! time: 3.489999771118164 ms.\n",
      "n=512 started...finished! time: 14.238901138305664 ms.\n",
      "n=1024 started...finished! time: 57.92037487030029 ms.\n",
      "n=2048 started...finished! time: 235.29816150665283 ms.\n",
      "n=4096 started...finished! time: 953.993182182312 ms.\n",
      "n=8192 started...finished! time: 3790.5732583999634 ms.\n",
      "n=16384 started...finished! time: 15912.280678749084 ms.\n",
      "insertion\n",
      "n=256 started...finished! time: 0.3710746765136719 ms.\n",
      "n=512 started...finished! time: 0.7790660858154297 ms.\n",
      "n=1024 started...finished! time: 2.1467971801757812 ms.\n",
      "n=2048 started...finished! time: 3.9846420288085938 ms.\n",
      "n=4096 started...finished! time: 6.548018455505371 ms.\n",
      "n=8192 started...finished! time: 13.889298439025879 ms.\n",
      "n=16384 started...finished! time: 27.628655433654785 ms.\n",
      "heap\n",
      "n=256 started...finished! time: 1.7522001266479492 ms.\n",
      "n=512 started...finished! time: 3.6111974716186523 ms.\n",
      "n=1024 started...finished! time: 8.76380443572998 ms.\n",
      "n=2048 started...finished! time: 19.472198486328125 ms.\n",
      "n=4096 started...finished! time: 42.055721282958984 ms.\n",
      "n=8192 started...finished! time: 94.23432350158691 ms.\n",
      "n=16384 started...finished! time: 189.36967849731445 ms.\n",
      "quick\n",
      "n=256 started...finished! time: 1.4385366439819336 ms.\n",
      "n=512 started...finished! time: 3.191542625427246 ms.\n",
      "n=1024 started...finished! time: 6.813936233520508 ms.\n",
      "n=2048 started...finished! time: 14.306321144104004 ms.\n",
      "n=4096 started...finished! time: 30.95776081085205 ms.\n",
      "n=8192 started...finished! time: 65.30739784240723 ms.\n",
      "n=16384 started...finished! time: 149.61917877197266 ms.\n",
      "merge\n",
      "n=256 started...finished! time: 0.9829998016357422 ms.\n",
      "n=512 started...finished! time: 2.1501779556274414 ms.\n",
      "n=1024 started...finished! time: 5.680398941040039 ms.\n",
      "n=2048 started...finished! time: 11.31594181060791 ms.\n",
      "n=4096 started...finished! time: 26.12020492553711 ms.\n",
      "n=8192 started...finished! time: 54.410176277160645 ms.\n",
      "n=16384 started...finished! time: 111.67190074920654 ms.\n",
      "bucket\n",
      "n=256 started...finished! time: 0.3667020797729492 ms.\n",
      "n=512 started...finished! time: 0.7344770431518555 ms.\n",
      "n=1024 started...finished! time: 2.365756034851074 ms.\n",
      "n=2048 started...finished! time: 3.283400535583496 ms.\n",
      "n=4096 started...finished! time: 7.313899993896484 ms.\n",
      "n=8192 started...finished! time: 17.399625778198242 ms.\n",
      "n=16384 started...finished! time: 29.613399505615234 ms.\n"
     ]
    }
   ],
   "source": [
    "times_all_sorted_swaped = {}\n",
    "for sort in sorts:\n",
    "    print(sort['label'])\n",
    "    times_all_sorted_swaped[sort['label']] = measure_times(sort['sort'], power_range=power_range, n_loop=n_loop, is_sorted=True, num_swaps=4)"
   ]
  },
  {
   "cell_type": "code",
   "execution_count": 17,
   "metadata": {},
   "outputs": [
    {
     "data": {
      "text/plain": [
       "<matplotlib.legend.Legend at 0x113376470>"
      ]
     },
     "execution_count": 17,
     "metadata": {},
     "output_type": "execute_result"
    },
    {
     "data": {
      "image/png": "[encoded data removed]",
      "text/plain": [
       "<matplotlib.figure.Figure at 0x1133762e8>"
      ]
     },
     "metadata": {},
     "output_type": "display_data"
    }
   ],
   "source": [
    "# log plot\n",
    "for sort in sorts:\n",
    "    plt.scatter(ns, times_all_sorted_swaped[sort['label']], label=sort['label'], color=sort['color'])\n",
    "plt.xscale('log')\n",
    "plt.yscale('log')\n",
    "plt.ylim(1e-5, 1)\n",
    "plt.grid(which='major', color='grey', linestyle='-')\n",
    "plt.legend()"
   ]
  },
  {
   "cell_type": "code",
   "execution_count": 18,
   "metadata": {},
   "outputs": [
    {
     "name": "stdout",
     "output_type": "stream",
     "text": [
      "0\n",
      "n=256 started...finished! time: 0.16357898712158203 ms.\n",
      "n=512 started...finished! time: 0.2746009826660156 ms.\n",
      "n=1024 started...finished! time: 1.1417198181152344 ms.\n",
      "n=2048 started...finished! time: 1.1985588073730469 ms.\n",
      "n=4096 started...finished! time: 2.535281181335449 ms.\n",
      "n=8192 started...finished! time: 5.981459617614746 ms.\n",
      "n=16384 started...finished! time: 9.662818908691406 ms.\n",
      "1\n",
      "n=256 started...finished! time: 0.16510009765625 ms.\n",
      "n=512 started...finished! time: 0.3735637664794922 ms.\n",
      "n=1024 started...finished! time: 0.7916593551635742 ms.\n",
      "n=2048 started...finished! time: 1.7834806442260742 ms.\n",
      "n=4096 started...finished! time: 3.543062210083008 ms.\n",
      "n=8192 started...finished! time: 8.213763236999512 ms.\n",
      "n=16384 started...finished! time: 15.192842483520508 ms.\n",
      "3\n",
      "n=256 started...finished! time: 0.33797740936279297 ms.\n",
      "n=512 started...finished! time: 0.7132816314697266 ms.\n",
      "n=1024 started...finished! time: 1.530137062072754 ms.\n",
      "n=2048 started...finished! time: 3.165755271911621 ms.\n",
      "n=4096 started...finished! time: 6.233024597167969 ms.\n",
      "n=8192 started...finished! time: 10.747098922729492 ms.\n",
      "n=16384 started...finished! time: 21.308722496032715 ms.\n",
      "10\n",
      "n=256 started...finished! time: 0.5680608749389648 ms.\n",
      "n=512 started...finished! time: 1.3207054138183594 ms.\n",
      "n=1024 started...finished! time: 2.8925180435180664 ms.\n",
      "n=2048 started...finished! time: 6.051821708679199 ms.\n",
      "n=4096 started...finished! time: 12.382645606994629 ms.\n",
      "n=8192 started...finished! time: 25.31698226928711 ms.\n",
      "n=16384 started...finished! time: 50.90369701385498 ms.\n",
      "30\n",
      "n=256 started...finished! time: 1.3367176055908203 ms.\n",
      "n=512 started...finished! time: 3.250284194946289 ms.\n",
      "n=1024 started...finished! time: 7.337136268615723 ms.\n",
      "n=2048 started...finished! time: 15.801782608032225 ms.\n",
      "n=4096 started...finished! time: 31.251840591430664 ms.\n",
      "n=8192 started...finished! time: 63.88681888580322 ms.\n",
      "n=16384 started...finished! time: 130.80915927886963 ms.\n",
      "100\n",
      "n=256 started...finished! time: 2.921481132507324 ms.\n",
      "n=512 started...finished! time: 8.790063858032227 ms.\n",
      "n=1024 started...finished! time: 21.381044387817383 ms.\n",
      "n=2048 started...finished! time: 46.8850040435791 ms.\n",
      "n=4096 started...finished! time: 96.10101699829102 ms.\n",
      "n=8192 started...finished! time: 199.2990207672119 ms.\n",
      "n=16384 started...finished! time: 407.51091480255127 ms.\n",
      "300\n",
      "n=256 started...finished! time: 4.463934898376465 ms.\n",
      "n=512 started...finished! time: 15.716500282287598 ms.\n",
      "n=1024 started...finished! time: 48.16018104553223 ms.\n",
      "n=2048 started...finished! time: 122.13508129119873 ms.\n",
      "n=4096 started...finished! time: 282.6811170578003 ms.\n",
      "n=8192 started...finished! time: 589.9700212478638 ms.\n",
      "n=16384 started...finished! time: 1236.222424507141 ms.\n",
      "1000\n",
      "n=256 started...finished! time: 4.672074317932129 ms.\n",
      "n=512 started...finished! time: 20.297517776489258 ms.\n",
      "n=1024 started...finished! time: 83.55705738067627 ms.\n",
      "n=2048 started...finished! time: 278.04166316986084 ms.\n",
      "n=4096 started...finished! time: 718.8931369781494 ms.\n",
      "n=8192 started...finished! time: 1669.7046566009521 ms.\n",
      "n=16384 started...finished! time: 3661.474003791809 ms.\n",
      "3000\n",
      "n=256 started...finished! time: 4.699163436889648 ms.\n",
      "n=512 started...finished! time: 20.540781021118164 ms.\n",
      "n=1024 started...finished! time: 89.65712070465088 ms.\n",
      "n=2048 started...finished! time: 354.45024490356445 ms.\n",
      "n=4096 started...finished! time: 1241.422643661499 ms.\n",
      "n=8192 started...finished! time: 3783.2776403427124 ms.\n",
      "n=16384 started...finished! time: 9195.645561218262 ms.\n",
      "10000\n",
      "n=256 started...finished! time: 4.6529436111450195 ms.\n",
      "n=512 started...finished! time: 20.616517066955566 ms.\n",
      "n=1024 started...finished! time: 90.93701362609863 ms.\n",
      "n=2048 started...finished! time: 375.6645202636719 ms.\n",
      "n=4096 started...finished! time: 1461.762719154358 ms.\n",
      "n=8192 started...finished! time: 5875.171661376953 ms.\n",
      "n=16384 started...finished! time: 19596.778302192688 ms.\n"
     ]
    }
   ],
   "source": [
    "times_all_num_swaps = {}\n",
    "for num_swaps in [0, 1, 3, 10, 30, 100, 300, 1000, 3000, 10000]:\n",
    "    print(num_swaps)\n",
    "    times_all_num_swaps[num_swaps] = measure_times(insertion_sort, power_range=power_range, n_loop=n_loop, is_sorted=True, num_swaps=num_swaps)"
   ]
  },
  {
   "cell_type": "code",
   "execution_count": 26,
   "metadata": {},
   "outputs": [
    {
     "data": {
      "text/plain": [
       "<matplotlib.legend.Legend at 0x15160fd940>"
      ]
     },
     "execution_count": 26,
     "metadata": {},
     "output_type": "execute_result"
    },
    {
     "data": {
      "image/png": "[encoded data removed]",
      "text/plain": [
       "<matplotlib.figure.Figure at 0x1524058780>"
      ]
     },
     "metadata": {},
     "output_type": "display_data"
    }
   ],
   "source": [
    "# log plot\n",
    "for num_swaps in times_all_num_swaps.keys():\n",
    "    plt.scatter(ns, times_all_num_swaps[num_swaps], label=num_swaps)\n",
    "plt.xscale('log')\n",
    "plt.yscale('log')\n",
    "plt.grid(which='major', color='grey', linestyle='-')\n",
    "plt.grid(which='major', color='lightgrey', linestyle='-')\n",
    "plt.legend()"
   ]
  },
  {
   "cell_type": "code",
   "execution_count": 20,
   "metadata": {},
   "outputs": [],
   "source": [
    "def measure_times_for_small(a_sort, n_range=(2, 12, 2), n_loop=1000, max_int=100):\n",
    "    times = []\n",
    "    for n in n_range:\n",
    "        print(\"n=\" + str(n) + \" started...\", end=\"\")\n",
    "        \n",
    "        arrays = [list(np.random.randint(0, max_int+1, n)) for _ in range(n_loop)]\n",
    "                        \n",
    "        start_time = time.time()\n",
    "        for array in arrays:\n",
    "            a_sort(array)\n",
    "        averaged_time = (time.time() - start_time) / n_loop\n",
    "        times.append(averaged_time)\n",
    "        print(\"finished! time: \" + str(averaged_time * 1000) + \" ms.\")\n",
    "    \n",
    "    return times"
   ]
  },
  {
   "cell_type": "code",
   "execution_count": 21,
   "metadata": {},
   "outputs": [
    {
     "name": "stdout",
     "output_type": "stream",
     "text": [
      "selection\n",
      "n=2 started...finished! time: 0.0012812304496765136 ms.\n",
      "n=4 started...finished! time: 0.0029561686515808105 ms.\n",
      "n=6 started...finished! time: 0.0050180768966674805 ms.\n",
      "n=8 started...finished! time: 0.007470731735229492 ms.\n",
      "n=10 started...finished! time: 0.01031637191772461 ms.\n",
      "n=12 started...finished! time: 0.01329387903213501 ms.\n",
      "n=14 started...finished! time: 0.016822760105133058 ms.\n",
      "insertion\n",
      "n=2 started...finished! time: 0.0011018013954162598 ms.\n",
      "n=4 started...finished! time: 0.0027507710456848144 ms.\n",
      "n=6 started...finished! time: 0.004907419681549073 ms.\n",
      "n=8 started...finished! time: 0.007589590549468994 ms.\n",
      "n=10 started...finished! time: 0.011013879776000976 ms.\n",
      "n=12 started...finished! time: 0.014955239295959473 ms.\n",
      "n=14 started...finished! time: 0.01935028076171875 ms.\n",
      "heap\n",
      "n=2 started...finished! time: 0.0025208187103271484 ms.\n",
      "n=4 started...finished! time: 0.006280930042266846 ms.\n",
      "n=6 started...finished! time: 0.010896823406219483 ms.\n",
      "n=8 started...finished! time: 0.016652648448944093 ms.\n",
      "n=10 started...finished! time: 0.022809689044952394 ms.\n",
      "n=12 started...finished! time: 0.029190678596496582 ms.\n",
      "n=14 started...finished! time: 0.035822582244873044 ms.\n",
      "quick\n",
      "n=2 started...finished! time: 0.00451495885848999 ms.\n",
      "n=4 started...finished! time: 0.011221451759338379 ms.\n",
      "n=6 started...finished! time: 0.018234238624572754 ms.\n",
      "n=8 started...finished! time: 0.025950939655303956 ms.\n",
      "n=10 started...finished! time: 0.03405683994293213 ms.\n",
      "n=12 started...finished! time: 0.04237918853759766 ms.\n",
      "n=14 started...finished! time: 0.050628049373626714 ms.\n",
      "merge\n",
      "n=2 started...finished! time: 0.0004496598243713379 ms.\n",
      "n=4 started...finished! time: 0.0043081617355346675 ms.\n",
      "n=6 started...finished! time: 0.01176206111907959 ms.\n",
      "n=8 started...finished! time: 0.013833019733428955 ms.\n",
      "n=10 started...finished! time: 0.021654038429260256 ms.\n",
      "n=12 started...finished! time: 0.029854609966278076 ms.\n",
      "n=14 started...finished! time: 0.0331723690032959 ms.\n",
      "bucket\n",
      "n=2 started...finished! time: 0.00043174982070922854 ms.\n",
      "n=4 started...finished! time: 0.00874896764755249 ms.\n",
      "n=6 started...finished! time: 0.011876132488250733 ms.\n",
      "n=8 started...finished! time: 0.01496551990509033 ms.\n",
      "n=10 started...finished! time: 0.01785883903503418 ms.\n",
      "n=12 started...finished! time: 0.020761580467224122 ms.\n",
      "n=14 started...finished! time: 0.023773140907287597 ms.\n"
     ]
    }
   ],
   "source": [
    "times_all_small = {}\n",
    "n_range = range(2, 16, 2)\n",
    "n_loop = 100000\n",
    "for sort in sorts:\n",
    "    print(sort['label'])\n",
    "    times_all_small[sort['label']] = measure_times_for_small(sort['sort'], n_range=n_range, n_loop=n_loop)"
   ]
  },
  {
   "cell_type": "code",
   "execution_count": 22,
   "metadata": {},
   "outputs": [
    {
     "data": {
      "text/plain": [
       "(0.0, 5e-05)"
      ]
     },
     "execution_count": 22,
     "metadata": {},
     "output_type": "execute_result"
    },
    {
     "data": {
      "image/png": "[encoded data removed]",
      "text/plain": [
       "<matplotlib.figure.Figure at 0x151f8f04a8>"
      ]
     },
     "metadata": {},
     "output_type": "display_data"
    }
   ],
   "source": [
    "# linear plot\n",
    "for sort in sorts:\n",
    "    plt.scatter(n_range, times_all_small[sort['label']], label=sort['label'], color=sort['color'])\n",
    "plt.legend()\n",
    "plt.ylim(0.0, 0.00005)"
   ]
  },
  {
   "cell_type": "code",
   "execution_count": null,
   "metadata": {},
   "outputs": [],
   "source": []
  },
  {
   "cell_type": "code",
   "execution_count": null,
   "metadata": {},
   "outputs": [],
   "source": []
  }
 ],
 "metadata": {
  "kernelspec": {
   "display_name": "Python 3",
   "language": "python",
   "name": "python3"
  }
 },
 "nbformat": 4,
 "nbformat_minor": 2
}
